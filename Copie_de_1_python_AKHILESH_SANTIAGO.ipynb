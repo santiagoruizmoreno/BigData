{
  "nbformat": 4,
  "nbformat_minor": 0,
  "metadata": {
    "kernelspec": {
      "display_name": "Python 2",
      "language": "python",
      "name": "python2"
    },
    "language_info": {
      "mimetype": "text/x-python",
      "name": "python",
      "pygments_lexer": "ipython2",
      "codemirror_mode": {
        "name": "ipython",
        "version": 2
      },
      "version": "2.7.9",
      "nbconvert_exporter": "python",
      "file_extension": ".py"
    },
    "name": "1-python",
    "notebookId": 3047179637077656,
    "colab": {
      "name": "Copie de 1-python_AKHILESH-SANTIAGO.ipynb",
      "provenance": [],
      "collapsed_sections": [],
      "include_colab_link": true
    }
  },
  "cells": [
    {
      "cell_type": "markdown",
      "metadata": {
        "id": "view-in-github",
        "colab_type": "text"
      },
      "source": [
        "<a href=\"https://colab.research.google.com/github/santiagoruizmoreno/BigData/blob/main/Copie_de_1_python_AKHILESH_SANTIAGO.ipynb\" target=\"_parent\"><img src=\"https://colab.research.google.com/assets/colab-badge.svg\" alt=\"Open In Colab\"/></a>"
      ]
    },
    {
      "cell_type": "markdown",
      "metadata": {
        "id": "UsbuB0aetRGj"
      },
      "source": [
        "# Notebook 1: Python Overview\n",
        "\n",
        "## Motivations\n",
        "\n",
        "Spark provides multiple *Application Programming Interfaces* (API), i.e. the interface allowing the user to interact with the application. The main APIs are [Scala](http://spark.apache.org/docs/latest/api/scala/index.html#org.apache.spark.package) and [Java](http://spark.apache.org/docs/latest/api/java/index.html) APIs, as Spark is implemented in Scala and runs on the Java Virtual Machine (JVM).\n",
        "Since the 0.7.0 version, a [Python API](http://spark.apache.org/docs/latest/api/python/index.html) is available, also known as PySpark. An [R API](http://spark.apache.org/docs/latest/api/R/index.html) has been released with 1.5.0 version. During this course, you will be using Spark 2.4.4.\n",
        "\n",
        "Throughout this course we will use the Python API for the following reasons:\n",
        "- R API is still too young and limited to be relied on. Besides, R can quickly become a living hell when using immature libraries.\n",
        "- Many of you are wanabee datascientists, and Python is a must-know language in data industry.\n",
        "- Scala and Java APIs would have been quite hard to learn given the length of the course and your actual programming skills.\n",
        "- Python is easy to learn, and even easier if you are already familiar with R.\n",
        "\n",
        "The goal of this session is to teach (or remind) you the syntax of basic operations, control structures and declarations in Python that will be useful as datascientist. Keep in mind that we do not have a lot of time, and that you should be able to create functions and classes and to manipulate them at the end of the lab. If you don't get that, the rest of the course will be hard to follow. Don't hesitate to ask for explanations and/or more exercises if you don't feel  confident enough at the end of the lab.\n",
        "\n",
        "**Note:** Python comes in two flavours, Python 2 and Python 3. Python 2 is now officially deprecated so there is no longer any support. However, a lot of companies have still a lot of code in Python 2 (Tensorflow only supports python 3 since 2019 and Google is well known for his extensive use of Python 2). In this course, we will use Python 3 rather than Python 2. Note that if you know Python 2, learning Python 3 will be lightning-fast.\n",
        "For those who are interested, you can quickly learn Python 3 syntax [over here](https://learnxinyminutes.com/docs/python3/) or find some [cheatsheets](http://ptgmedia.pearsoncmg.com/imprint_downloads/informit/promotions/python/python2python3.pdf) highlighting the differences between the two versions. Spark Python API is compatible with Python 3 since Spark 1.4.0.\n",
        "\n",
        "When you look at stackoverflow, please be aware that they might share snippets of code in another python version and that you might need to translate them. So no stupid copy-paste.\n",
        "\n",
        "*This introduction relies on [Learn Python in Y minutes](https://learnxinyminutes.com/docs/python/)*\n",
        "\n",
        "## Introduction\n",
        "\n",
        "Python is a high level, general-purpose interpreted language. Python is meant to be very concise and readable, it is thus a very pleasant language to work with. \n",
        "\n",
        "## 1. Primitive Datatypes and Operators\n",
        "Read section 1 of [Learn python in Y Minutes](https://learnxinyminutes.com/docs/python/) (if you already know Python, you can skip this step). Then, replace `???` in the following cells with your code to answer the questions. To get started, please run the following cell."
      ]
    },
    {
      "cell_type": "markdown",
      "metadata": {
        "id": "xaJAXdwatRHB"
      },
      "source": [
        "Compute 4 + 8"
      ]
    },
    {
      "cell_type": "code",
      "execution_count": null,
      "metadata": {
        "colab": {
          "base_uri": "https://localhost:8080/"
        },
        "id": "kxvDBoUltRHD",
        "outputId": "d5eb7dbc-ae34-434a-9cdf-362e79a616a6"
      },
      "outputs": [
        {
          "output_type": "execute_result",
          "data": {
            "text/plain": [
              "12"
            ]
          },
          "metadata": {},
          "execution_count": 1
        }
      ],
      "source": [
        "4+8"
      ]
    },
    {
      "cell_type": "code",
      "source": [
        "print(\"Hello World\")"
      ],
      "metadata": {
        "colab": {
          "base_uri": "https://localhost:8080/"
        },
        "id": "sLiJvh5SlYwj",
        "outputId": "71bcfe62-76c4-471a-c54c-fae8d9c7dca0"
      },
      "execution_count": null,
      "outputs": [
        {
          "output_type": "stream",
          "name": "stdout",
          "text": [
            "Hello World\n"
          ]
        }
      ]
    },
    {
      "cell_type": "markdown",
      "metadata": {
        "id": "uumGlRjUtRHQ"
      },
      "source": [
        "Compute 4 * 8"
      ]
    },
    {
      "cell_type": "code",
      "execution_count": null,
      "metadata": {
        "colab": {
          "base_uri": "https://localhost:8080/"
        },
        "id": "V88uqJeatRHS",
        "outputId": "a8823785-f703-44d6-ffbb-e3d053d0d0f0"
      },
      "outputs": [
        {
          "output_type": "execute_result",
          "data": {
            "text/plain": [
              "32"
            ]
          },
          "metadata": {},
          "execution_count": 2
        }
      ],
      "source": [
        "4*8"
      ]
    },
    {
      "cell_type": "markdown",
      "metadata": {
        "id": "iFsOahCatRHd"
      },
      "source": [
        "Compute 4 / 8 (using the regular division operation, not integer division)"
      ]
    },
    {
      "cell_type": "code",
      "execution_count": null,
      "metadata": {
        "colab": {
          "base_uri": "https://localhost:8080/"
        },
        "id": "TolXN7L5tRHg",
        "outputId": "5d689c2b-63e1-4966-be3b-1eaaffa3cc4c"
      },
      "outputs": [
        {
          "output_type": "execute_result",
          "data": {
            "text/plain": [
              "0.5"
            ]
          },
          "metadata": {},
          "execution_count": 3
        }
      ],
      "source": [
        "4/8"
      ]
    },
    {
      "cell_type": "markdown",
      "metadata": {
        "id": "YxvLJZZPl70H"
      },
      "source": [
        "Compute $4^8$"
      ]
    },
    {
      "cell_type": "code",
      "execution_count": null,
      "metadata": {
        "colab": {
          "base_uri": "https://localhost:8080/"
        },
        "id": "WDE87Ow3l70H",
        "outputId": "7d535338-1be3-4103-d98b-c80dd0792079"
      },
      "outputs": [
        {
          "output_type": "execute_result",
          "data": {
            "text/plain": [
              "65536"
            ]
          },
          "metadata": {},
          "execution_count": 4
        }
      ],
      "source": [
        "4**8"
      ]
    },
    {
      "cell_type": "markdown",
      "metadata": {
        "id": "BDOxUKpjtRHy"
      },
      "source": [
        "Check if the variable `foo` is None:"
      ]
    },
    {
      "cell_type": "markdown",
      "metadata": {
        "collapsed": true,
        "id": "t1lgdo-BtRH-"
      },
      "source": [
        "## 2. Variables and Collections\n",
        "Same as before, read the corresponding section, and answer the questions below.\n",
        "\n",
        "Now you're asked to `print` your results instead of just output them.\n",
        "\n",
        "Please always remember that there is a difference between the output of your code (which is the result of the last executed line) and the printed output."
      ]
    },
    {
      "cell_type": "code",
      "execution_count": null,
      "metadata": {
        "colab": {
          "base_uri": "https://localhost:8080/",
          "height": 36
        },
        "id": "vQWi6Ftjl70I",
        "outputId": "094ae786-4a45-4150-a6b0-8da6a852c922"
      },
      "outputs": [
        {
          "output_type": "execute_result",
          "data": {
            "application/vnd.google.colaboratory.intrinsic+json": {
              "type": "string"
            },
            "text/plain": [
              "'This is a text'"
            ]
          },
          "metadata": {},
          "execution_count": 7
        }
      ],
      "source": [
        "txt = \"This is a text\"\n",
        "new_txt = \"This is another text\" # assignment doesn't return anything\n",
        "# Try uncommenting the following lines to check your understanding\n",
        "txt # return the value of txt\n",
        " # return the value of new_txt"
      ]
    },
    {
      "cell_type": "code",
      "execution_count": null,
      "metadata": {
        "colab": {
          "base_uri": "https://localhost:8080/"
        },
        "id": "4HRJAJZTtRH_",
        "outputId": "224ee535-5851-4cc5-861e-e10bb2c186c3"
      },
      "outputs": [
        {
          "output_type": "stream",
          "name": "stdout",
          "text": [
            "5.55\n"
          ]
        }
      ],
      "source": [
        "# Declare a variable containing a float of your choice and print it\n",
        "# From now on, when you will be asked to print something, please use the print statement.\n",
        "c=5.55\n",
        "print(c)"
      ]
    },
    {
      "cell_type": "code",
      "execution_count": null,
      "metadata": {
        "colab": {
          "base_uri": "https://localhost:8080/"
        },
        "id": "baIJHJcytRIF",
        "outputId": "815f5e47-88e6-4c24-fb73-dc2f1601721f"
      },
      "outputs": [
        {
          "output_type": "stream",
          "name": "stdout",
          "text": [
            "['a', 'b', 'c']\n",
            "['a', 'b', 'c', 'Charlie']\n",
            "['a', 'b', 'c', 'Charlie', 5]\n"
          ]
        }
      ],
      "source": [
        "# Create a list containing strings and store it in a variable\n",
        "b=['a','b','c']\n",
        "print(b)\n",
        "# Append a new string to this list\n",
        "b.append('Charlie')\n",
        "print(b)\n",
        "# Append an integer to this list and print it\n",
        "b.append(5)\n",
        "print(b)"
      ]
    },
    {
      "cell_type": "markdown",
      "metadata": {
        "id": "JvyO8q5AtRIM"
      },
      "source": [
        "Note that the modifications on list objects are performed inplace, i.e.\n",
        "\n",
        "    li = [1, 2, 3]\n",
        "    li.append(4)\n",
        "    li  # => [1, 2, 3, 4]"
      ]
    },
    {
      "cell_type": "code",
      "execution_count": null,
      "metadata": {
        "colab": {
          "base_uri": "https://localhost:8080/"
        },
        "id": "aY3ZCgaKtRIO",
        "outputId": "b2cb71af-ab8e-4f75-e789-52315d246ea5"
      },
      "outputs": [
        {
          "output_type": "stream",
          "name": "stdout",
          "text": [
            "['a', 'b', 'c', 'Charlie']\n"
          ]
        }
      ],
      "source": [
        "# Mixing types inside a list object can be a bad idea depending on the situation.\n",
        "# Remove the integer you just inserted in the list and print it\n",
        "b.remove(5)\n",
        "print(b)"
      ]
    },
    {
      "cell_type": "code",
      "execution_count": null,
      "metadata": {
        "colab": {
          "base_uri": "https://localhost:8080/"
        },
        "id": "ZZj4QAb7tRIU",
        "outputId": "2b8be514-9490-4570-eafc-2d1e95c43a6a"
      },
      "outputs": [
        {
          "output_type": "stream",
          "name": "stdout",
          "text": [
            "b\n"
          ]
        }
      ],
      "source": [
        "# Print the second element of the list\n",
        "print(b[1])"
      ]
    },
    {
      "cell_type": "code",
      "execution_count": null,
      "metadata": {
        "colab": {
          "base_uri": "https://localhost:8080/"
        },
        "id": "gcfnpZLrl70K",
        "outputId": "188a7cf5-d6d0-4db7-8fc5-ccd65d192d0b"
      },
      "outputs": [
        {
          "output_type": "stream",
          "name": "stdout",
          "text": [
            "42.57\n"
          ]
        },
        {
          "output_type": "execute_result",
          "data": {
            "text/plain": [
              "42"
            ]
          },
          "metadata": {},
          "execution_count": 10
        }
      ],
      "source": [
        "import math\n",
        "x = 42.567\n",
        "# Print x with only two decimal (rounding)\n",
        "print(round(x,ndigits=2))\n",
        "# Print x with only two decimal (truncating)\n",
        "math.trunc(42.567) "
      ]
    },
    {
      "cell_type": "code",
      "source": [
        "def trunc(x,ndeci):\n",
        "  b=10**ndeci\n",
        "  a=x*b\n",
        "  a=math.trunc(a)\n",
        "  a=a/b\n",
        "  return a"
      ],
      "metadata": {
        "id": "pMf3EDzRrgB1"
      },
      "execution_count": null,
      "outputs": []
    },
    {
      "cell_type": "code",
      "source": [
        "trunc(x,ndeci=2)"
      ],
      "metadata": {
        "colab": {
          "base_uri": "https://localhost:8080/"
        },
        "id": "5sTkaUjOrm3X",
        "outputId": "d35d110d-25bd-4dec-97b1-9a50ae7ee561"
      },
      "execution_count": null,
      "outputs": [
        {
          "output_type": "execute_result",
          "data": {
            "text/plain": [
              "42.56"
            ]
          },
          "metadata": {},
          "execution_count": 37
        }
      ]
    },
    {
      "cell_type": "markdown",
      "metadata": {
        "id": "_RKnEw4KtRIa"
      },
      "source": [
        "You can access list elements in reverse order, e.g.\n",
        "\n",
        "    li[-1]  # returns the last element of the list\n",
        "    li[-2]  # returns the second last element of the list\n",
        "    \n",
        "and so on..."
      ]
    },
    {
      "cell_type": "code",
      "execution_count": null,
      "metadata": {
        "colab": {
          "base_uri": "https://localhost:8080/"
        },
        "id": "X15yEiSotRId",
        "outputId": "70e19c0d-5671-4c12-b1c1-8139554f4be7"
      },
      "outputs": [
        {
          "output_type": "stream",
          "name": "stdout",
          "text": [
            "['a', 'b', 'c', 'Charlie', 'We', 'are', 'the', 'knights', 'who', 'say', 'Ni', '!']\n"
          ]
        }
      ],
      "source": [
        "# Extend your list with new_list and print it\n",
        "new_list = [\"We\", \"are\", \"the\", \"knights\", \"who\", \"say\", \"Ni\", \"!\"]\n",
        "b=  b + new_list\n",
        "print(b)"
      ]
    },
    {
      "cell_type": "code",
      "execution_count": null,
      "metadata": {
        "colab": {
          "base_uri": "https://localhost:8080/"
        },
        "id": "i3k7EDdAtRIi",
        "outputId": "c81ee5d6-bd49-4d39-f37d-299dcb27940e"
      },
      "outputs": [
        {
          "output_type": "stream",
          "name": "stdout",
          "text": [
            "['We', 'are', 'the', 'knights', 'who', 'say', 'Ekke Ekke Ekke Ekke Ptang Zoo Boing', '!']\n"
          ]
        }
      ],
      "source": [
        "# Replace \"Ni\" by \"Ekke Ekke Ekke Ekke Ptang Zoo Boing\" in the list and print it\n",
        "for i in range(len(new_list)):\n",
        "  if new_list[i]==\"Ni\":\n",
        "    new_list[i]=\"Ekke Ekke Ekke Ekke Ptang Zoo Boing\"\n",
        "print(new_list)"
      ]
    },
    {
      "cell_type": "code",
      "execution_count": null,
      "metadata": {
        "colab": {
          "base_uri": "https://localhost:8080/"
        },
        "id": "2HoKEtETtRIn",
        "outputId": "73b41f6b-3c03-4769-ad47-41c9e787eec2"
      },
      "outputs": [
        {
          "output_type": "stream",
          "name": "stdout",
          "text": [
            "8\n"
          ]
        }
      ],
      "source": [
        "# Compute the length of the list and print it\n",
        "print(len(new_list))"
      ]
    },
    {
      "cell_type": "code",
      "execution_count": null,
      "metadata": {
        "id": "2ZziFC0QtRIt"
      },
      "outputs": [],
      "source": [
        "# What is the difference between lists and tuples?\n",
        "\"\"\"\n",
        "lists are mutable whereas tuples are immutable \n",
        "this implies that we can change particular elements in a list but ze cannot do the same in a tuple \n",
        "\"\"\""
      ]
    },
    {
      "cell_type": "code",
      "execution_count": null,
      "metadata": {
        "id": "B2zRHa3atRIx"
      },
      "outputs": [],
      "source": [
        "To# Create a dictionary containing the following mapping:\n",
        "# \"one\" : 1\n",
        "# \"two\" : 2\n",
        "# etc. until you reach \"five\" : 5\n",
        "baz =  {\n",
        "    \"one\" : 1,\n",
        "    \"two\" : 2,\n",
        "  \"three\" : 3,\n",
        "   \"four\" : 4,\n",
        "   \"five\" : 5\n",
        " }"
      ]
    },
    {
      "cell_type": "code",
      "execution_count": null,
      "metadata": {
        "colab": {
          "base_uri": "https://localhost:8080/"
        },
        "id": "c_Y6qcpUtRI3",
        "outputId": "9a7fcff5-8539-484a-8f69-96a9824bd55a"
      },
      "outputs": [
        {
          "output_type": "stream",
          "name": "stdout",
          "text": [
            "1\n"
          ]
        }
      ],
      "source": [
        "# Check if the key \"four\" is contained in the dict\n",
        "# If four is contained in the dict, print the associated value\n",
        "print(baz[\"one\"])"
      ]
    },
    {
      "cell_type": "code",
      "execution_count": null,
      "metadata": {
        "colab": {
          "base_uri": "https://localhost:8080/"
        },
        "id": "ECwOx4TJtRI9",
        "outputId": "162ffc82-5290-49fd-df9c-cd35f2c6647f"
      },
      "outputs": [
        {
          "output_type": "stream",
          "name": "stdout",
          "text": [
            "['s', 'q', 'g', 'j', 'u', 'o', 'i', 'v', 'p', 'r', 'n', 'l', 'h', 'e', 'f']\n"
          ]
        }
      ],
      "source": [
        "gibberish = list(\"fqfgsrhrfeqluihjgrshioprqoqeionfvnorfiqeo\")\n",
        "# Find all the unique letters contained in gibberish. Your answer should fit in one line of code\n",
        "unique_letters = list(set(gibberish))\n",
        "print(unique_letters)"
      ]
    },
    {
      "cell_type": "markdown",
      "metadata": {
        "id": "P7yBADultRJC"
      },
      "source": [
        "You should now be able to answer the following problem using dictionaries, lists and sets. Imagine you owe money to your friends because your forgot your credit card last time you went out for drinks. You want to remember how much you owe to each of them in order to refund them later. Which data structure would be useful to store this information? Use this data structure and fill it in with some debt data in the cell below:"
      ]
    },
    {
      "cell_type": "code",
      "execution_count": null,
      "metadata": {
        "id": "suyHVgJjtRJD"
      },
      "outputs": [],
      "source": [
        "debts = {\n",
        "    'x': 9,\n",
        "    'y':10,\n",
        "    'z':19\n",
        "}"
      ]
    },
    {
      "cell_type": "markdown",
      "metadata": {
        "id": "mQQSVcCHtRJI"
      },
      "source": [
        "Another party night with more people, yet you forgot your credit card again... You meet new friends who buy you drinks. Create another data structure as above with different data, i.e. include friends that were not here during the first party and new friends."
      ]
    },
    {
      "cell_type": "code",
      "execution_count": null,
      "metadata": {
        "id": "_cjYLMvEtRJK"
      },
      "outputs": [],
      "source": [
        "debts_2 = {\n",
        "    'x': 9,\n",
        "    'y':10,\n",
        "    'z':19,\n",
        "    'd':17,\n",
        "    'a':14\n",
        "}"
      ]
    },
    {
      "cell_type": "markdown",
      "metadata": {
        "id": "Li3vPIN7tRJP"
      },
      "source": [
        "Count the number of new friends you made that second night. Print the name of the friends who bought you drinks during the second party, but not during the first."
      ]
    },
    {
      "cell_type": "code",
      "execution_count": null,
      "metadata": {
        "colab": {
          "base_uri": "https://localhost:8080/"
        },
        "id": "1Rx2ix10tRJQ",
        "outputId": "0898643f-719c-417b-bcef-0a5ada38b223"
      },
      "outputs": [
        {
          "output_type": "stream",
          "name": "stdout",
          "text": [
            "{'d': 17, 'a': 14}\n"
          ]
        }
      ],
      "source": [
        "\n",
        "new_friends = {k: debts_2.get(k, debts.get(k)) for k in debts_2.keys() ^ debts} # should fit in one line\n",
        "nb_new_friends = len(new_friends) # should fit in one line\n",
        "print(new_friends)"
      ]
    },
    {
      "cell_type": "markdown",
      "metadata": {
        "collapsed": true,
        "id": "fRqhthIttRJU"
      },
      "source": [
        "## 3. Control flow\n",
        "Same as before, read the corresponding section, and answer the questions below.\n",
        "You can skip the paragraph on exceptions for now."
      ]
    },
    {
      "cell_type": "code",
      "execution_count": null,
      "metadata": {
        "id": "SZIDKiAntRJW",
        "colab": {
          "base_uri": "https://localhost:8080/"
        },
        "outputId": "2fc9dd6b-ff18-4148-8534-6d1d0e1025e0"
      },
      "outputs": [
        {
          "output_type": "stream",
          "name": "stdout",
          "text": [
            "duh\n"
          ]
        }
      ],
      "source": [
        "# Code the following:\n",
        "# if you have made more than 5 friends that second night, \n",
        "# print \"Yay! I'm super popular!\", else, print \"Duh...\"\n",
        "if nb_new_friends>5:\n",
        "  print(\"Yay! I'm super popular!\")\n",
        "else:\n",
        "  print(\"duh\")"
      ]
    },
    {
      "cell_type": "code",
      "execution_count": 1,
      "metadata": {
        "id": "x1KK30CWtRJa"
      },
      "outputs": [],
      "source": [
        "# Now, thank each new friend iteratively, i.e.\n",
        "# print \"Thanks <name of the friend>!\" using loops and string formatting (cf. section 1)\n",
        "\n"
      ]
    },
    {
      "cell_type": "code",
      "execution_count": null,
      "metadata": {
        "id": "iNOfoXTJtRJd",
        "colab": {
          "base_uri": "https://localhost:8080/"
        },
        "outputId": "b51eb882-62f7-4d92-c1dd-4baaf89e265c"
      },
      "outputs": [
        {
          "output_type": "stream",
          "name": "stdout",
          "text": [
            "120\n"
          ]
        }
      ],
      "source": [
        "# Sum all the number from 0 to 15 (included) using what we've seen so far (i.e. without the function sum() )\n",
        "sum = 0\n",
        "for x in range(16):\n",
        "      sum = sum + x\n",
        "\n",
        "print(sum) \n"
      ]
    },
    {
      "cell_type": "code",
      "execution_count": null,
      "metadata": {
        "id": "hNXGkNgitRJh",
        "colab": {
          "base_uri": "https://localhost:8080/"
        },
        "outputId": "fcb4c273-8a21-4b61-ffa5-25ea3ab812e2"
      },
      "outputs": [
        {
          "output_type": "stream",
          "name": "stdout",
          "text": [
            "0\n",
            "1\n",
            "2\n"
          ]
        }
      ],
      "source": [
        "# Note: you can break a loop with the break statement\n",
        "for i in range(136):\n",
        "    print (i)\n",
        "    if i >= 2:\n",
        "        break"
      ]
    },
    {
      "cell_type": "code",
      "execution_count": null,
      "metadata": {
        "id": "1nZB8pMltRJm"
      },
      "outputs": [],
      "source": [
        "# enumerate function can be very useful when dealing with iterators:\n",
        "for i, value in enumerate([\"a\", \"b\", \"c\"]):\n",
        "    print(value, i)"
      ]
    },
    {
      "cell_type": "markdown",
      "metadata": {
        "id": "rSpPZ8q0tRJq"
      },
      "source": [
        "## 4. Functions\n",
        "Things are becoming more interesting. Read section 4. It's ok if you don't get the args/kwargs part. Be sure to understand basic function declaration and anonymous function declaration. Higher order functions, maps, and filters will be covered during the next lab.\n",
        "\n",
        "Write a Python function that checks whether a passed string is palindrome or not. Note: a palindrome is a word, phrase, or sequence that reads the same backward and forward, e.g. \"madam\" or \"nurses run\". Hint: strings are lists of characters e.g.\n",
        "\n",
        "    a = \"abcdef\"\n",
        "    a[2] => c\n",
        "    \n",
        "If needed, here are [some tips about string manipulation](http://www.pythonforbeginners.com/basics/string-manipulation-in-python)."
      ]
    },
    {
      "cell_type": "code",
      "execution_count": null,
      "metadata": {
        "id": "lSa99mbptRJr",
        "colab": {
          "base_uri": "https://localhost:8080/"
        },
        "outputId": "ec386156-6ecf-4246-b227-50d89a839614"
      },
      "outputs": [
        {
          "output_type": "stream",
          "name": "stdout",
          "text": [
            "True\n",
            "True\n",
            "False\n"
          ]
        }
      ],
      "source": [
        "def isPalindrome(string_input):\n",
        "  l=list(string_input)\n",
        "  n=len(l)\n",
        "  for i in range(0,int(n/2)):\n",
        "    if l[i]==l[n-i-1]:\n",
        "        return True   \n",
        "    else:\n",
        "        return F\n",
        "        alse\n",
        "print(isPalindrome('aza'))        # Simple palindrome\n",
        "print(isPalindrome('nurses run')) # Palindrome containing a space\n",
        "print(isPalindrome('palindrome')) # Not a palindrome"
      ]
    },
    {
      "cell_type": "markdown",
      "metadata": {
        "id": "zB9qsMDJtRJv"
      },
      "source": [
        "Write a Python function to check whether a string is pangram or not. Note: pangrams are words or sentences containing every letter of the alphabet at least once. For example: \"The quick brown fox jumps over the lazy dog\".\n",
        "\n",
        "[Hint](https://docs.python.org/2/library/stdtypes.html#set-types-set-frozenset)"
      ]
    },
    {
      "cell_type": "code",
      "execution_count": null,
      "metadata": {
        "id": "klw8o3FDtRJx",
        "colab": {
          "base_uri": "https://localhost:8080/"
        },
        "outputId": "ba9ea50f-485f-4ca8-ee45-117486bbdbd5"
      },
      "outputs": [
        {
          "output_type": "stream",
          "name": "stdout",
          "text": [
            "False\n",
            "False\n"
          ]
        }
      ],
      "source": [
        "import string\n",
        "\n",
        "# In this function, \"alphabet\" argument has a default value: string.ascii_lowercase\n",
        "# string.ascii_lowercase contains all the letters in lowercase.\n",
        "def ispangram(string_input, alphabet=string.ascii_lowercase):  \n",
        "    for i in range(0,int(len(list(string_input)))):\n",
        "      for j in range(0,int(len(list(alphabet)))):\n",
        "        if list(alphabet)[j]!=list(string_input)[i]:\n",
        "          return False\n",
        "        else:\n",
        "          return True\n",
        "print(ispangram('The quick brown fox jumps over the lazy dog'))\n",
        "print(ispangram('The quick red fox jumps over the lazy dog'))"
      ]
    },
    {
      "cell_type": "markdown",
      "metadata": {
        "collapsed": true,
        "id": "hIXo-hJ_tRJ0"
      },
      "source": [
        "### Python lambda expressions\n",
        "\n",
        "When evaluated, lambda expressions return an anonymous function, i.e. a function that is not bound to any variable (hence the \"anonymous\"). However, it is possible to assign the function to a variable. Lambda expressions are particularly useful when you need to pass a simple function into another function. To create lambda functions, we use the following syntax\n",
        "\n",
        "    lambda argument1, argument2, argument3, etc. : body_of_the_function\n",
        "\n",
        "For example, a function which takes a number and returns its square would be\n",
        "\n",
        "    lambda x: x**2\n",
        "    \n",
        "A function that takes two numbers and returns their sum:\n",
        "\n",
        "    lambda x, y: x + y\n",
        "    \n",
        "`lambda` generates a function and returns it, while `def` generates a function and assigns it to a name.  The function returned by `lambda` also automatically returns the value of its expression statement, which reduces the amount of code that needs to be written.\n",
        "\n",
        "Here are some additional references that explain lambdas: [Lambda Functions](http://www.secnetix.de/olli/Python/lambda_functions.hawk), [Lambda Tutorial](https://pythonconquerstheuniverse.wordpress.com/2011/08/29/lambda_tutorial/), and [Python Functions](http://www.bogotobogo.com/python/python_functions_lambda.php).\n",
        "\n",
        "Here is an example:"
      ]
    },
    {
      "cell_type": "code",
      "execution_count": null,
      "metadata": {
        "id": "Qag42QL7tRJ1"
      },
      "outputs": [],
      "source": [
        "# Function declaration using def\n",
        "def add_s(x):\n",
        "    return x + 's'\n",
        "\n",
        "print type(add_s)\n",
        "print add_s\n",
        "print add_s('dog')"
      ]
    },
    {
      "cell_type": "code",
      "execution_count": null,
      "metadata": {
        "id": "6MVqBJDXtRJ4"
      },
      "outputs": [],
      "source": [
        "# Same function declared as a lambda\n",
        "add_s_lambda = lambda x: x + 's'\n",
        "print type(add_s_lambda)\n",
        "print add_s_lambda  # Note that the function shows its name as <lambda>\n",
        "print add_s_lambda('dog')"
      ]
    },
    {
      "cell_type": "code",
      "execution_count": null,
      "metadata": {
        "id": "mOp4Ju79tRJ8",
        "colab": {
          "base_uri": "https://localhost:8080/"
        },
        "outputId": "6dcbdc88-eed6-4acc-e764-5a0df8ec1643"
      },
      "outputs": [
        {
          "output_type": "stream",
          "name": "stdout",
          "text": [
            "10\n",
            "True\n"
          ]
        }
      ],
      "source": [
        "# Code a function using a lambda expression which takes\n",
        "# a number and returns this number multiplied by two.\n",
        "multiply_by_two = lambda x: x*2\n",
        "print(multiply_by_two(5))\n",
        "\n",
        "print(multiply_by_two(10) == 20)"
      ]
    },
    {
      "cell_type": "markdown",
      "metadata": {
        "id": "nJlViCP6tRKI"
      },
      "source": [
        "Observe the behavior of the following code:"
      ]
    },
    {
      "cell_type": "code",
      "execution_count": null,
      "metadata": {
        "id": "BaBVXHRftRKJ"
      },
      "outputs": [],
      "source": [
        "def add(x, y):\n",
        "    \"\"\"Add two values\"\"\"\n",
        "    ???\n",
        "\n",
        "def sub(x, y):\n",
        "    \"\"\"Substract y from x\"\"\"\n",
        "    ???\n",
        "\n",
        "functions = [add, sub]\n",
        "print(functions[0](1, 2))\n",
        "print(functions[1](3, 4))"
      ]
    },
    {
      "cell_type": "markdown",
      "metadata": {
        "id": "3ULfcjzvtRKM"
      },
      "source": [
        "Code the same functionality, using lambda expressions:"
      ]
    },
    {
      "cell_type": "code",
      "execution_count": null,
      "metadata": {
        "id": "kyrrjXjptRKN"
      },
      "outputs": [],
      "source": [
        "lambda_functions = [lambda ??? ,  lambda ???]\n",
        "\n",
        "print(lambda_functions[0](1, 2) == 3))\n",
        "print(lambda_functions[1](3, 4) == -1))"
      ]
    },
    {
      "cell_type": "markdown",
      "metadata": {
        "id": "ED1XVrZxtRKR"
      },
      "source": [
        "Lambda expressions can be used to generate functions that take in zero or more parameters. The syntax for `lambda` allows for multiple ways to define the same function.  For example, we might want to create a function that takes in a single parameter, where the parameter is a tuple consisting of two values, and the function adds the two values.  The syntax could be either \n",
        "\n",
        "    lambda x: x[0] + x[1]\n",
        "    \n",
        "or \n",
        "    \n",
        "    lambda (x, y): x + y\n",
        "\n",
        "If we called either function on the tuple `(1, 2)` it would return `3`."
      ]
    },
    {
      "cell_type": "code",
      "execution_count": null,
      "metadata": {
        "id": "ZE25hA-vl70P"
      },
      "outputs": [],
      "source": [
        "# Example:\n",
        "add_two_1 = lambda x, y: (x[0] + y[0], x[1] + y[1])\n",
        "add_two_2 = lambda (x0, x1), (y0, y1): (x0 + y0, x1 + y1)\n",
        "print('add_two_1((1,2), (3,4)) = {0}'.format(add_two_1((1,2), (3,4))))\n",
        "print('add_two_2((1,2), (3,4)) = {0}'.format(add_two_2((1,2), (3,4))))"
      ]
    },
    {
      "cell_type": "code",
      "execution_count": null,
      "metadata": {
        "id": "GDn7Z7dstRKV"
      },
      "outputs": [],
      "source": [
        "# Use both syntaxes to create a function that takes in a tuple of three values and reverses their order\n",
        "# E.g. (1, 2, 3) => (3, 2, 1)\n",
        "reverse1 = lambda x: ???\n",
        "reverse2 = lambda (x0, x1, x2): ???\n",
        "\n",
        "print(reverse1((1, 2, 3)) == (3, 2, 1)))\n",
        "print(reverse2((1, 2, 3)) == (3, 2, 1)))"
      ]
    },
    {
      "cell_type": "markdown",
      "metadata": {
        "id": "GuRsJH2btRKY"
      },
      "source": [
        "Lambda expressions allow you to reduce the size of your code, but they are limited to simple logic. The following Python keywords refer to statements that cannot be used in a lambda expression: `assert`, `pass`, `del`, `print`, `return`, `yield`, `raise`, `break`, `continue`, `import`, `global`, and `exec`.  Assignment statements (`=`) and augmented assignment statements (e.g. `+=`) cannot be used either. If more complex logic is necessary, use `def` in place of `lambda`."
      ]
    },
    {
      "cell_type": "markdown",
      "metadata": {
        "id": "C8oYTUJDtRKZ"
      },
      "source": [
        "## 5. Classes\n",
        "Classes allow you to create objects. Object Oriented Programming (OOP) can be a very powerful paradigm. If done well, OOP  allows you to improve the modularity and reusability of your code, but that's the subject of an entire other course. \n",
        "Here is a *very* short introduction to it.\n",
        "\n",
        "By convention, class names are written in camel case, e.g. `MyBeautifulClass`, while variable and function names are written in snake case, e.g. `my_variable`, `my_very_complex_function`\n",
        "\n",
        "Classes contain methods (i.e. functions owned by the class) and attributes (i.e. variables owned by the class). \n",
        "When you define a class, first thing to do is to define a specific method, the constructor. In Python, the constructor is called `__init__`. This method is used to create the instances of an object. Example:\n",
        "\n",
        "    class MyClass:\n",
        "    \n",
        "        def __init__(self, first_attribute, second_attribute):\n",
        "            self.first_attribute = first_attribute\n",
        "            self.second_attribute = second_attribute\n",
        "            \n",
        "This class has two attributes, and one (hidden) method, the constructor. To create an instance of this class, one simply does:\n",
        "\n",
        "    instance_example = MyClass(1, \"foo\")\n",
        "    \n",
        "Then, the attributes can easily be accessed to:\n",
        "\n",
        "    instance_example.first_attribute  # => 1\n",
        "    instance_example.first_attribute  # => \"foo\""
      ]
    },
    {
      "cell_type": "code",
      "execution_count": null,
      "metadata": {
        "id": "keBR9vgQtRKc"
      },
      "outputs": [],
      "source": [
        "# Run this example\n",
        "class MyClass:\n",
        "    \n",
        "    def __init__(self, first_attribute, second_attribute):\n",
        "        self.first_attribute = first_attribute\n",
        "        self.second_attribute = second_attribute\n",
        "            \n",
        "instance_example = MyClass(1, \"foo\") \n",
        "print(instance_example.first_attribute)\n",
        "instance_example.__init__(3,4)  # In real life, it is rare to reinit an object.\n",
        "print(instance_example.first_attribute)"
      ]
    },
    {
      "cell_type": "markdown",
      "metadata": {
        "id": "8AO18Rz7tRKf"
      },
      "source": [
        "`self` denotes the object itself. When you declare a method, you have to pass `self` as the first argument of the method:\n",
        "\n",
        "class MyClass:\n",
        "    \n",
        "    def __init__(self, first_attribute, second_attribute):\n",
        "        self.first_attribute = first_attribute\n",
        "        self.second_attribute = second_attribute\n",
        "   \n",
        "    def method_baz(self):\n",
        "        print \"Hello! I'm a method! I have two attributes, initialized with values %s, %s\"%(self.first_attribute, self.second_attribute)\n",
        "        \n",
        "indeed, when we call\n",
        "    \n",
        "    instance_example = MyClass(1, \"foo\") \n",
        "    instance_example.method_baz()\n",
        "    \n",
        "the `self` object is implicitely passed to `method_baz`as an argument. Think of the method call as the following function call\n",
        "\n",
        "    method_baz(instance_example)"
      ]
    },
    {
      "cell_type": "code",
      "execution_count": null,
      "metadata": {
        "id": "oZde0pPntRKg"
      },
      "outputs": [],
      "source": [
        "# Run this example\n",
        "class MyClass:\n",
        "    \n",
        "    def __init__(self, first_attribute, second_attribute):\n",
        "        self.first_attribute = first_attribute\n",
        "        self.second_attribute = second_attribute\n",
        "    \n",
        "    def class_method(self):\n",
        "        print(\"Hello! I'm a method! My class has two attributes, of value {0}, {1}\".format(self.first_attribute, self.second_attribute))\n",
        "            \n",
        "instance_example = MyClass(1, \"foo\") \n",
        "# Call to a class method\n",
        "instance_example.class_method()"
      ]
    },
    {
      "cell_type": "markdown",
      "metadata": {
        "id": "fLUmPnKntRKo"
      },
      "source": [
        "Now, the tricky part. You can declare **static** methods, i.e. methods that don't need to access the data contained in `self` to work properly. Such methods do not require the `self` argument as they do not use any instance data. They are implemented in the following way:"
      ]
    },
    {
      "cell_type": "code",
      "execution_count": 3,
      "metadata": {
        "id": "ZfkEAQbGtRKp",
        "colab": {
          "base_uri": "https://localhost:8080/"
        },
        "outputId": "38589d6a-19a9-477c-938f-937d71e63a76"
      },
      "outputs": [
        {
          "output_type": "stream",
          "name": "stdout",
          "text": [
            "Hello! I'm a method! My class has two attributes, of value 1, foo\n",
            "I'm a static method!\n"
          ]
        }
      ],
      "source": [
        "# Run this example\n",
        "class MyClass:\n",
        "    \n",
        "    def __init__(self, first_attribute, second_attribute):\n",
        "        self.first_attribute = first_attribute\n",
        "        self.second_attribute = second_attribute\n",
        "    \n",
        "    def class_method(self):\n",
        "        print(\"Hello! I'm a method! My class has two attributes, of value {0}, {1}\".format(self.first_attribute, self.second_attribute))\n",
        "         \n",
        "    @staticmethod\n",
        "    def static_method():\n",
        "        print(\"I'm a static method!\")\n",
        "            \n",
        "instance_example = MyClass(1, \"foo\") \n",
        "# Call to a class method\n",
        "instance_example.class_method()\n",
        "# Call to a static method\n",
        "instance_example.static_method()"
      ]
    },
    {
      "cell_type": "code",
      "execution_count": 4,
      "metadata": {
        "id": "kjsCfutptRKu",
        "colab": {
          "base_uri": "https://localhost:8080/"
        },
        "outputId": "710301cb-7f0f-4beb-af10-df881c29a7d2"
      },
      "outputs": [
        {
          "output_type": "stream",
          "name": "stdout",
          "text": [
            "I'm a static method!\n"
          ]
        }
      ],
      "source": [
        "# Call to a static method without class instanciation\n",
        "MyClass.static_method()"
      ]
    },
    {
      "cell_type": "code",
      "execution_count": null,
      "metadata": {
        "id": "WjIceCletRKy"
      },
      "outputs": [],
      "source": [
        "# Call to a class method without class instanciation: raises an error\n",
        "# MyClass.class_method()\n",
        "# => TypeError: unbound method class_method() must be called with MyClass instance as first argument (got nothing instead)"
      ]
    },
    {
      "cell_type": "markdown",
      "metadata": {
        "id": "WrGtoiEptRK1"
      },
      "source": [
        "You can set attributes without passing them to the constructor:"
      ]
    },
    {
      "cell_type": "code",
      "execution_count": 19,
      "metadata": {
        "id": "1EtLi3gRtRK2",
        "colab": {
          "base_uri": "https://localhost:8080/"
        },
        "outputId": "43ba097b-05fa-4f0b-bf22-02fd03fd8c9d"
      },
      "outputs": [
        {
          "output_type": "stream",
          "name": "stdout",
          "text": [
            "42\n"
          ]
        }
      ],
      "source": [
        "# Run this example\n",
        "class MyClass:\n",
        "    \n",
        "    default_attribute = 42\n",
        "    \n",
        "    def __init__(self, first_attribute, second_attribute):\n",
        "        self.first_attribute = first_attribute\n",
        "        self.second_attribute = second_attribute\n",
        "    \n",
        "    def method_baz(self):\n",
        "        print(\"Hello! I'm a method! I have two attributes, initialized with values %s, %s\"%(self.first_attribute, self.second_attribute))\n",
        "        \n",
        "    @staticmethod\n",
        "    def static_method():\n",
        "        print(\"I'm a static method!\")\n",
        "            \n",
        "instance_example = MyClass(1, \"foo\") \n",
        "print(instance_example.default_attribute)"
      ]
    },
    {
      "cell_type": "code",
      "execution_count": 18,
      "metadata": {
        "id": "9f2LfrfEtRK6",
        "colab": {
          "base_uri": "https://localhost:8080/"
        },
        "outputId": "96cf3e23-ffcc-48d7-cc54-a7f80410b140"
      },
      "outputs": [
        {
          "output_type": "stream",
          "name": "stdout",
          "text": [
            "120\n",
            "False\n",
            "44\n",
            "False\n",
            "True\n",
            "Do you like rectangles?\n",
            "False\n"
          ]
        }
      ],
      "source": [
        "# Write a Python class named Rectangle which is \n",
        "# constructed by a length and width \n",
        "# and has two class methods\n",
        "# - \"rectange_area\", which computes the area of a rectangle.\n",
        "# - \"rectangle_perimeter\", which computes the perimeter of a rectangle.\n",
        "#\n",
        "# The Rectangle class should have an attribute n_edges equal to 4\n",
        "# which should not be initialized by the __init__ constructor.\n",
        "#\n",
        "# Declare a static method \"talk\" that returns \"Do you like rectangles?\" when called\n",
        "\n",
        "class Rectangle: \n",
        "     \n",
        "    n_edges = 4\n",
        "    \n",
        "    def __init__(rectangle, width, length):\n",
        "        rectangle.width = width\n",
        "        rectangle.length = length\n",
        "    \n",
        "    def rectangle_area(rectangle):\n",
        "        print(rectangle.width*rectangle.length)\n",
        "\n",
        "    def rectangle_perimeter(rectangle):\n",
        "        print(2*rectangle.width + 2*rectangle.length)\n",
        "   \n",
        "    def talk():\n",
        "        print(\"Do you like rectangles?\")\n",
        "\n",
        "\n",
        "new_rectangle = Rectangle(12, 10)\n",
        "print(new_rectangle.rectangle_area() == 120)# rectangle_area method\n",
        "print(new_rectangle.rectangle_perimeter() == 44) # rectangle_area method\n",
        "print(Rectangle.n_edges == 4) # constant attibute\n",
        "print(Rectangle.talk() == \"Do you like rectangles?\") # Rectangle talk static method"
      ]
    },
    {
      "cell_type": "markdown",
      "metadata": {
        "id": "g3qBpyo1l70S"
      },
      "source": [
        "In machine learning, when you're manipulating large images, you often need to break the diwn into smaller, more manageable images.\n",
        "- Modify the previous rectangle class to include a list of patches.\n",
        "- Write a Python class named Patch which is a square of size 1x1. Each patch should be identified by his coordinates.\n",
        "- Use the [\\_\\_iter\\_\\_](https://www.datacamp.com/community/tutorials/python-iterator-tutorial) function to create a get_next_patch() in the Rectangle class."
      ]
    },
    {
      "cell_type": "code",
      "execution_count": null,
      "metadata": {
        "id": "rraKYj8wl70S"
      },
      "outputs": [],
      "source": [
        "class Rectangle :\n",
        "    \n",
        "\n",
        "class Patch :\n",
        "    def __iter__(square):\n",
        "        ???\n",
        "\n",
        "    def __str__() \n",
        "        ???\n",
        "\n",
        "rectangle = ???\n",
        "\n",
        "for patch in rectangle :\n",
        "    print(patch)\n",
        "# should print all the patches in your rectangle"
      ]
    },
    {
      "cell_type": "code",
      "execution_count": null,
      "metadata": {
        "id": "zLo1690Jw0au"
      },
      "outputs": [],
      "source": [
        "Use the same approach to create two classes :\n",
        "- Sentence which is a list of words\n",
        "- Word which encapsulate a string with a specific order within the sentence\n",
        "Implement both [\\_\\_str\\_\\_](https://docs.python.org/3/reference/datamodel.html?highlight=__str__#object.__str__) and [\\_\\_repr\\_\\_](https://docs.python.org/3/reference/datamodel.html?highlight=__str__#object.__repr__) for both classes. `__str__` should be readable when `__repr__` should offer you information to helps you debug.\n",
        "In Natural Language Processing you'll use a lot of n-grams (which is the set of *n* sequential words). So you should implement a get_next_bigrams() method in the Sentence class. For instance give the sentence \"My name is Brian\", it should return an element of the list of bigrams ```[\"My name\", \"name is\", \"is Brian\"]```"
      ]
    },
    {
      "cell_type": "code",
      "execution_count": null,
      "metadata": {
        "id": "EOY4YNXel70S"
      },
      "outputs": [],
      "source": [
        "class Sentence :\n",
        "    ???\n",
        "\n",
        "class Word :\n",
        "    ???"
      ]
    },
    {
      "cell_type": "code",
      "execution_count": null,
      "metadata": {
        "id": "9ZJc_Iu_tRLC"
      },
      "outputs": [],
      "source": [
        "# 6. Modules\n",
        "Finally one really important part of python is the ability to create modules.\n",
        "Read https://docs.python.org/fr/3/tutorial/modules.html and create a module named geo with the classes Rectangle & Patch.\n",
        "Import the ```geo``` module and demonstrate the different calls.\n",
        "\n",
        "Repeat the operation with an ```NLP``` module to encapsulate the classes Sentence and Word.\n",
        "In Natural Language Processing you'll use a lot of n-grams (which is the set of *n* sequential words). So you should implement a ```get_bigrams(sentence)``` method who will return a list of bigrams."
      ]
    },
    {
      "cell_type": "code",
      "execution_count": null,
      "metadata": {
        "id": "5lQKX-Nfl70S"
      },
      "outputs": [],
      "source": [
        "import ???\n",
        "\n",
        "rectangle = ???\n",
        "patch = ???\n",
        "\n",
        "???"
      ]
    },
    {
      "cell_type": "code",
      "execution_count": null,
      "metadata": {
        "id": "7r80OABSl70S"
      },
      "outputs": [],
      "source": [
        "import ???\n",
        "\n",
        "def get_next_bigrams(sentence) = \n",
        "    ???\n",
        "\n",
        "test_sentence = Sentence(\"My name is Brian\")\n",
        "\n"
      ]
    },
    {
      "cell_type": "markdown",
      "metadata": {
        "id": "-up0M2A-l70S"
      },
      "source": [
        "# 7. Coding style\n",
        "\n",
        "You'll often ask yourself about which letters should be capital or if you should use _ or other characters.\n",
        "\n",
        "To help you decide, python comes with PEP-8 which is a set of recommandation.\n",
        "\n",
        "It is highly advised to read PEP-8 and to apply the rules whenever it's applicable.\n",
        "\n",
        "You'll get point for style in your code (I mean, you will lose points if the code is not readable).\n",
        "\n",
        "Fortunately, [the rules of PEP-8 are not perfect and should not always be followed](https://www.youtube.com/watch?v=wf-BqAjZb8M)."
      ]
    },
    {
      "cell_type": "code",
      "execution_count": null,
      "metadata": {
        "id": "zoaFu_X8l70T"
      },
      "outputs": [],
      "source": [
        "# You should create a github account before the next session :\n",
        "student_1_github_login = hangeresh\n",
        "student_2_github_login = santiagoruizmoreno"
      ]
    },
    {
      "cell_type": "markdown",
      "metadata": {
        "id": "m5UTrCzjtRLF"
      },
      "source": [
        "Congratulations, you've reched the end of this notebook. =)"
      ]
    }
  ]
}