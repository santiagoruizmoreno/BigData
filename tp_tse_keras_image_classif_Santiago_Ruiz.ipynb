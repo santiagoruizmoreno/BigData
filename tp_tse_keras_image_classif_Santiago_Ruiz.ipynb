{
  "nbformat": 4,
  "nbformat_minor": 0,
  "metadata": {
    "colab": {
      "name": "tp_tse_keras_image_classif_Santiago_Ruiz.ipynb",
      "provenance": [],
      "collapsed_sections": [],
      "include_colab_link": true
    },
    "kernelspec": {
      "name": "python3",
      "display_name": "Python 3"
    },
    "accelerator": "GPU"
  },
  "cells": [
    {
      "cell_type": "markdown",
      "metadata": {
        "id": "view-in-github",
        "colab_type": "text"
      },
      "source": [
        "<a href=\"https://colab.research.google.com/github/santiagoruizmoreno/BigData/blob/main/tp_tse_keras_image_classif_Santiago_Ruiz.ipynb\" target=\"_parent\"><img src=\"https://colab.research.google.com/assets/colab-badge.svg\" alt=\"Open In Colab\"/></a>"
      ]
    },
    {
      "cell_type": "markdown",
      "metadata": {
        "id": "zu6N7RJ7dUoa"
      },
      "source": [
        "# Introduction\n",
        "This practical work is about creation of elementary models in keras.\n",
        "While it focuses on image classification, it illustrates many important functionalities of the keras framework and tries to provide the user with good deep-learning development strategies.\n",
        "\n",
        "-------------------------------------\n",
        "\n",
        "Please, read the doc, everything is pretty well explained: https://keras.io/api/\n",
        "\n",
        "Check also the tutos:\n",
        "- https://blog.keras.io/\n",
        "- https://machinelearningmastery.com/\n"
      ]
    },
    {
      "cell_type": "code",
      "metadata": {
        "id": "diDc6LA-ABob",
        "colab": {
          "base_uri": "https://localhost:8080/"
        },
        "outputId": "e34e6d0b-c8bf-4a64-e1c2-531242eb25f0"
      },
      "source": [
        "from google.colab import drive\n",
        "drive.mount('/content/drive')\n"
      ],
      "execution_count": 80,
      "outputs": [
        {
          "output_type": "stream",
          "name": "stdout",
          "text": [
            "Drive already mounted at /content/drive; to attempt to forcibly remount, call drive.mount(\"/content/drive\", force_remount=True).\n"
          ]
        }
      ]
    },
    {
      "cell_type": "code",
      "metadata": {
        "id": "AYD_C2WumJye"
      },
      "source": [
        "from keras.datasets import mnist, fashion_mnist, cifar10\n",
        "from keras.preprocessing.image import ImageDataGenerator\n",
        "from keras.models import Model\n",
        "from keras.layers import Conv2D, Dense, Dropout, MaxPooling2D, Flatten, Input\n",
        "from tensorflow.keras.utils import to_categorical\n",
        "import numpy\n",
        "import os\n",
        "from tensorflow.keras.optimizers import SGD, Adam\n",
        "from matplotlib import pyplot as plt"
      ],
      "execution_count": 81,
      "outputs": []
    },
    {
      "cell_type": "code",
      "source": [
        "import tensorflow as tf\n",
        "from tensorflow import keras"
      ],
      "metadata": {
        "id": "5ehz5b-URMlQ"
      },
      "execution_count": 82,
      "outputs": []
    },
    {
      "cell_type": "markdown",
      "metadata": {
        "id": "tC7Bu-qLdcoI"
      },
      "source": [
        "## Setup\n",
        "Before you start, please mount your google drive.\n",
        "For each exercise, create an output directory to store monitoring data and your model."
      ]
    },
    {
      "cell_type": "code",
      "metadata": {
        "id": "0QNnu_AgBBBR"
      },
      "source": [
        "OUTDIR = \"/content/drive/My Drive/Classification\"\n",
        "if not os.path.exists(OUTDIR):\n",
        "  os.makedirs(OUTDIR)\n",
        "# First, check dimensions of the datasets !\n",
        "\n",
        "# shape of images in cifar10: (32, 32, 3)\n",
        "# shape of images in mnist: (28,28)\n",
        "# shape of images in fashion_mnist: (28, 28)"
      ],
      "execution_count": 83,
      "outputs": []
    },
    {
      "cell_type": "code",
      "source": [
        "(x_train, y_train), (x_test, y_test) = mnist.load_data()"
      ],
      "metadata": {
        "id": "hSAAJq8m3guK"
      },
      "execution_count": 84,
      "outputs": []
    },
    {
      "cell_type": "code",
      "source": [
        "(x_train_fas, y_train_fas), (x_test_fas, y_test_fas) = fashion_mnist.load_data()"
      ],
      "metadata": {
        "id": "52sij4KD6aUC"
      },
      "execution_count": 85,
      "outputs": []
    },
    {
      "cell_type": "code",
      "source": [
        "(x_train_cifar, y_train_cifar), (x_test_cifar, y_test_cifar) = cifar10.load_data()"
      ],
      "metadata": {
        "id": "Wge3pH_T6lSd"
      },
      "execution_count": 86,
      "outputs": []
    },
    {
      "cell_type": "code",
      "source": [
        "#each image is composed of 28 pixels by 28 inside the mnist dataset\n",
        "print (len(x_train[1]))\n",
        "print (len(x_train[1][1]))"
      ],
      "metadata": {
        "id": "iB0l5yRX7JDJ",
        "colab": {
          "base_uri": "https://localhost:8080/"
        },
        "outputId": "549a3e27-1b5e-430f-898e-33edec1a5095"
      },
      "execution_count": 87,
      "outputs": [
        {
          "output_type": "stream",
          "name": "stdout",
          "text": [
            "28\n",
            "28\n"
          ]
        }
      ]
    },
    {
      "cell_type": "code",
      "source": [
        "# each image is composed of \n",
        "print (len(x_train_fas[1]))\n",
        "print (len(x_train_fas[1][1]))"
      ],
      "metadata": {
        "colab": {
          "base_uri": "https://localhost:8080/"
        },
        "id": "lkYaOsIK2Ifc",
        "outputId": "2affed4e-73d7-4d72-f82b-d5b35c5f5a5d"
      },
      "execution_count": 88,
      "outputs": [
        {
          "output_type": "stream",
          "name": "stdout",
          "text": [
            "28\n",
            "28\n"
          ]
        }
      ]
    },
    {
      "cell_type": "code",
      "source": [
        "# each image is composed of 32 x 32 pixels\n",
        "print (len(x_train_cifar[1]))\n",
        "print (len(x_train_cifar[1][1]))\n",
        "print (len(x_train_cifar[1][1][1]))"
      ],
      "metadata": {
        "colab": {
          "base_uri": "https://localhost:8080/"
        },
        "id": "qXJaUL1Q28V9",
        "outputId": "412fe929-d42c-4591-bc83-993010665d66"
      },
      "execution_count": 89,
      "outputs": [
        {
          "output_type": "stream",
          "name": "stdout",
          "text": [
            "32\n",
            "32\n",
            "3\n"
          ]
        }
      ]
    },
    {
      "cell_type": "code",
      "source": [
        "# That's how the images look like\n",
        "%matplotlib inline \n",
        "import matplotlib.pyplot as plt \n",
        "plt.imshow(x_train_cifar[1])"
      ],
      "metadata": {
        "colab": {
          "base_uri": "https://localhost:8080/",
          "height": 284
        },
        "id": "nbTlTUgw3KeC",
        "outputId": "cf9c6f7b-ff08-4c3a-ed4d-4dc7dd49bf20"
      },
      "execution_count": 90,
      "outputs": [
        {
          "output_type": "execute_result",
          "data": {
            "text/plain": [
              "<matplotlib.image.AxesImage at 0x7fd07ca57c50>"
            ]
          },
          "metadata": {},
          "execution_count": 90
        },
        {
          "output_type": "display_data",
          "data": {
            "image/png": "[encoded data removed]",
            "text/plain": [
              "<Figure size 432x288 with 1 Axes>"
            ]
          },
          "metadata": {
            "needs_background": "light"
          }
        }
      ]
    },
    {
      "cell_type": "markdown",
      "metadata": {
        "id": "P-c46sXwd8Eh"
      },
      "source": [
        "# EX1: Lenet-like classifier."
      ]
    },
    {
      "cell_type": "markdown",
      "metadata": {
        "id": "VXrk3AVtfLbS"
      },
      "source": [
        "## 1- Build model architecture\n",
        "The architecture has to be a CLASS called \"Lenet_like\".\n",
        "\n",
        "- I can define the width: number of filters in the first layer.\n",
        "- I can define the depth: number of conv layers.\n",
        "- I can specify the number of classes: output neurons.\n",
        "\n",
        "Lenet_like has no input tensor. But it has a \\_\\_call\\_\\_ function and can therefore be called on an input later.\n",
        "\n",
        "The rule to go from depth d to depth d+1, is to reduce the spatial size by a factor of 2 in each direction.\n",
        "\n",
        "Hidden dense layer will have 512 units."
      ]
    },
    {
      "cell_type": "code",
      "metadata": {
        "id": "jyZwILwynX9Q"
      },
      "source": [
        "# first model\n",
        "# Lenet-like\n",
        "class Lenet_like:\n",
        "  \"\"\"\n",
        "  Lenet like architecture.\n",
        "  \"\"\"\n",
        "  def __init__(self, width, depth, drop, n_classes):\n",
        "    \"\"\"\n",
        "    Architecture settings.\n",
        "\n",
        "    Arguments:\n",
        "      - width: int, first layer number of convolution filters.\n",
        "      - depth: int, number of convolution layer in the network.\n",
        "      - drop: float, dropout rate.\n",
        "      - n_classes: int, number of classes in the dataset.\n",
        "    \"\"\"\n",
        "    self.width = width\n",
        "    self.depth = depth\n",
        "    self.drop = drop\n",
        "    self.n_classes = n_classes\n",
        "  \n",
        "  def __call__(self, X):\n",
        "    \"\"\"\n",
        "    Call classifier layers on the inputs.\n",
        "    \"\"\"\n",
        "  \n",
        "    for k in range(self.depth):\n",
        "      # Appliying the convolutional network and its layers\n",
        "      # The first parameter refers to the number of filters, the second to the nu\n",
        "           x = Conv2D(self.width*k, 3, strides=2, padding=\"same\")(X)\n",
        "           x = Dropout(self.drop)(x)\n",
        "           x = MaxPooling2D(3, strides=2, padding=\"same\")(x)\n",
        "\n",
        "    x = Flatten()(x)\n",
        "    x = Dense(1024, activation='sigmoid')(x)\n",
        "    x = Dropout(self.drop)(x)\n",
        "    x = Flatten()(x)\n",
        "    x = Dense(512, activation='sigmoid')(x)\n",
        "    x = Flatten()(x)\n",
        "    x = Dense(self.n_classes, activation='sigmoid')(x)\n",
        "    \n",
        "    Y = x\n",
        "    # Perceptron\n",
        "    # This is the classification head of the classifier\n",
        "    ...\n",
        "\n",
        "    return Y\n"
      ],
      "execution_count": 108,
      "outputs": []
    },
    {
      "cell_type": "markdown",
      "metadata": {
        "id": "W8OPc7nifmTm"
      },
      "source": [
        "## 2- A function to create a model with Lenet_like architecture\n",
        "I want the model to be able to fit on the following datasets:\n",
        "\n",
        "- mnist\n",
        "- fashion-mnist\n",
        "- cifar-10\n",
        "\n",
        "Create a function called \"make_lenet_model\" that take the name of one of these dataset as a str.\n",
        "It returns a keras Model object.\n",
        "It should obviously take all arguments to init the Lenet_like architecture.\n",
        "Arguments other than the dataset might have default values.\n",
        "I want to be able to monitor the accuracy of the model."
      ]
    },
    {
      "cell_type": "code",
      "metadata": {
        "id": "cFbWjtAB_BDi"
      },
      "source": [
        "def make_lenet_model(dataset,\n",
        "                     width=32,\n",
        "                     depth=3,\n",
        "                     drop=0.25,\n",
        "                     n_classes=10):\n",
        "  \"\"\"\n",
        "  Create a Lenet model adapted to the dimensions of a given dataset.\n",
        "  \"\"\"\n",
        "  if dataset == \"cifar10\":\n",
        "    # dimensions of input are: (32, 32, 4)\n",
        "    X = Input(batch_shape=(None,32,32,3))\n",
        "  elif dataset == \"mnist\" or dataset == \"fashion_mnist\":\n",
        "    # dimensions of input are: (28, 28)\n",
        "    X = Input(batch_shape=(None,28,28))\n",
        "  else:\n",
        "    raise NotImplementedError(\"Model not implemented for datastet {}\".format(dataset))\n",
        "  \n",
        "  Y = Lenet_like(width, depth, drop, n_classes)(X)\n",
        "  \n",
        "  model = Model(inputs = X, outputs = Y)\n",
        "  # Remember I wanna monitor accuracy\n",
        "  model.compile(optimizer= Adam(learning_rate=1e-3), loss=tf.keras.losses.BinaryCrossentropy(), metrics=[tf.keras.metrics.BinaryAccuracy(), tf.keras.metrics.FalseNegatives()])\n",
        "  return model"
      ],
      "execution_count": 109,
      "outputs": []
    },
    {
      "cell_type": "code",
      "source": [
        "# It does look like a convolutional model\n",
        "make_lenet_model('cifar10').summary()"
      ],
      "metadata": {
        "colab": {
          "base_uri": "https://localhost:8080/"
        },
        "id": "3IMpZLfsKZmx",
        "outputId": "dee6fef7-a745-4490-c00d-a28ef6f8bd0b"
      },
      "execution_count": 110,
      "outputs": [
        {
          "output_type": "stream",
          "name": "stdout",
          "text": [
            "Model: \"model_16\"\n",
            "_________________________________________________________________\n",
            " Layer (type)                Output Shape              Param #   \n",
            "=================================================================\n",
            " input_30 (InputLayer)       [(None, 32, 32, 3)]       0         \n",
            "                                                                 \n",
            " conv2d_55 (Conv2D)          (None, 16, 16, 64)        1792      \n",
            "                                                                 \n",
            " dropout_57 (Dropout)        (None, 16, 16, 64)        0         \n",
            "                                                                 \n",
            " max_pooling2d_41 (MaxPoolin  (None, 8, 8, 64)         0         \n",
            " g2D)                                                            \n",
            "                                                                 \n",
            " flatten_20 (Flatten)        (None, 4096)              0         \n",
            "                                                                 \n",
            " dense_48 (Dense)            (None, 1024)              4195328   \n",
            "                                                                 \n",
            " dropout_58 (Dropout)        (None, 1024)              0         \n",
            "                                                                 \n",
            " flatten_21 (Flatten)        (None, 1024)              0         \n",
            "                                                                 \n",
            " dense_49 (Dense)            (None, 512)               524800    \n",
            "                                                                 \n",
            " flatten_22 (Flatten)        (None, 512)               0         \n",
            "                                                                 \n",
            " dense_50 (Dense)            (None, 10)                5130      \n",
            "                                                                 \n",
            "=================================================================\n",
            "Total params: 4,727,050\n",
            "Trainable params: 4,727,050\n",
            "Non-trainable params: 0\n",
            "_________________________________________________________________\n"
          ]
        }
      ]
    },
    {
      "cell_type": "markdown",
      "metadata": {
        "id": "bm0iDMSKgMF3"
      },
      "source": [
        "## 3- Create a fitting function\n",
        "\n",
        "I want a function \"fit_model_on\" with the following arguments:\n",
        "\n",
        "- dataset: str name of the dataset\n",
        "- epochs: number of times you fit on the entire training set\n",
        "- batch_size: number of images to average gradient on\n",
        "\n",
        "The function must create a Lenet model and fit it following these parameters.\n",
        "The function should:\n",
        "\n",
        "- fit the model, obviously\n",
        "- store the model architecture in a .json file in your output directory\n",
        "- store the model's weights in a .h5 file in your output directory\n",
        "- store the fitting metrics loss, validation_loss, accuracy, validation_accuracy under the form of a plot exported in a png file.\n",
        "\n",
        "Run your fitting function of course."
      ]
    },
    {
      "cell_type": "code",
      "metadata": {
        "id": "AS61Zmb5JeTB"
      },
      "source": [
        "def fit_model_on(dataset,\n",
        "                 epochs=100,\n",
        "                 batch_size_m=32,\n",
        "                 n_classes=10):\n",
        "  \n",
        "  model_filename = \"lenet_{}.json\".format(dataset)\n",
        "  weight_filename = \"lenet_{}_weights.h5\".format(dataset)\n",
        "  lossplot_filename = \"lenet_{}_loss.png\".format(dataset)\n",
        "  accplot_filename = \"lenet_{}_accuracy.png\".format(dataset)\n",
        "  \n",
        "  # create your model and call it on your dataset\n",
        "  model = make_lenet_model(dataset,\n",
        "                     width=32,\n",
        "                     depth=2,\n",
        "                     drop=0.25,\n",
        "                     n_classes=10)\n",
        "  \n",
        "  # create a Keras ImageDataGenerator to handle your dataset\n",
        "  datagen = ImageDataGenerator(\n",
        "    rotation_range=20,\n",
        "    rescale=1.0/255.0,\n",
        "    width_shift_range=0.2,\n",
        "    height_shift_range=0.2,\n",
        "    horizontal_flip=True,\n",
        "    validation_split=0.2)\n",
        "  \n",
        "  \n",
        "  if dataset == \"cifar10\":\n",
        "    (x_train, y_train), (x_test, y_test) = cifar10.load_data()\n",
        "  elif dataset == \"mnist\":\n",
        "    (x_train, y_train), (x_test, y_test) = mnist.load_data()\n",
        "  elif dataset == \"fashion_mnist\":\n",
        "    (x_train, y_train), (x_test, y_test) = fashion_mnist.load_data()\n",
        "  else:\n",
        "    raise NotImplementedError(\"Model not implemented for datastet {}\".format(dataset))\n",
        "  \n",
        "  # Convert class vectors to binary class matrices (one-hot encoding).\n",
        "  y_train = to_categorical(y_train, n_classes)\n",
        "  y_test = to_categorical(y_test, n_classes)\n",
        "\n",
        "  # Be sure that your training/test data is 'float32'\n",
        "  x_train = x_train.astype(\"float32\")\n",
        "  x_test = x_test.astype(\"float32\")\n",
        "\n",
        "\n",
        "\n",
        "  try:\n",
        "    # Fit with keras using 'datagen', the previously defined image generator\n",
        "       history = model.fit(datagen.flow(x_train, y_train, batch_size=32,\n",
        "         subset='training'),\n",
        "         validation_data=datagen.flow(x_train, y_train,\n",
        "         batch_size=batch_size_m, subset='validation'),\n",
        "         steps_per_epoch=len(x_train) / batch_size_m, epochs=epochs)\n",
        "       \n",
        "  except KeyboardInterrupt:\n",
        "    print(\"Training interrupted!\")\n",
        "  \n",
        "  # first, save the model\n",
        "  json_str = model.to_json()\n",
        "  model_path = os.path.join(OUTDIR, model_filename)\n",
        "  weight_path = os.path.join(OUTDIR, weight_filename)\n",
        "  with open(model_path, \"w\") as txtfile:\n",
        "    txtfile.write(json_str)\n",
        "  \n",
        "  # then, save the weights\n",
        "  model.save_weights(weight_path)\n",
        "  \n",
        "  # finally, plot and save the metrics\n",
        "  print(history.history.keys())\n",
        "# summarize history for accuracy\n",
        "  plt.plot(history.history['binary_accuracy'])    \n",
        "  plt.plot(history.history['val_binary_accuracy'])\n",
        "  plt.title('model accuracy')\n",
        "  plt.ylabel('accuracy')\n",
        "  plt.xlabel('epoch')\n",
        "  plt.legend(['train', 'test'], loc='upper left')\n",
        "  plt.show()\n",
        "# summarize history for loss\n",
        "  plt.plot(history.history['loss'])\n",
        "  plt.plot(history.history['val_loss'])\n",
        "  plt.title('model loss')\n",
        "  plt.ylabel('loss')\n",
        "  plt.xlabel('epoch')\n",
        "  plt.legend(['train', 'test'], loc='upper left')\n",
        "  plt.show()\n",
        "\n"
      ],
      "execution_count": 118,
      "outputs": []
    },
    {
      "cell_type": "code",
      "metadata": {
        "id": "aXV-9BxNT59c",
        "colab": {
          "base_uri": "https://localhost:8080/",
          "height": 1000
        },
        "outputId": "b3320fbb-26bf-4ae8-d527-19ba377a4785"
      },
      "source": [
        "# fit your model\n",
        "# IT is important to choose apropriater activating functions depending on the problem we are dealing with\n",
        "fit_model_on(\"cifar10\", epochs=100, batch_size_m=100*30, n_classes=10)"
      ],
      "execution_count": 119,
      "outputs": [
        {
          "output_type": "stream",
          "name": "stdout",
          "text": [
            "Epoch 1/100\n",
            "16/16 [==============================] - 9s 527ms/step - loss: 0.3776 - binary_accuracy: 0.8881 - false_negatives_21: 535.0000 - val_loss: 0.3362 - val_binary_accuracy: 0.9000 - val_false_negatives_21: 10000.0000\n",
            "Epoch 2/100\n",
            "16/16 [==============================] - 6s 398ms/step - loss: 0.3305 - binary_accuracy: 0.9000 - false_negatives_21: 544.0000 - val_loss: 0.3239 - val_binary_accuracy: 0.9000 - val_false_negatives_21: 10000.0000\n",
            "Epoch 3/100\n",
            "16/16 [==============================] - 7s 416ms/step - loss: 0.3237 - binary_accuracy: 0.9000 - false_negatives_21: 544.0000 - val_loss: 0.3207 - val_binary_accuracy: 0.9000 - val_false_negatives_21: 10000.0000\n",
            "Epoch 4/100\n",
            "16/16 [==============================] - 6s 396ms/step - loss: 0.3185 - binary_accuracy: 0.9000 - false_negatives_21: 544.0000 - val_loss: 0.3163 - val_binary_accuracy: 0.9000 - val_false_negatives_21: 10000.0000\n",
            "Epoch 5/100\n",
            "16/16 [==============================] - 6s 399ms/step - loss: 0.3113 - binary_accuracy: 0.9000 - false_negatives_21: 544.0000 - val_loss: 0.3043 - val_binary_accuracy: 0.9000 - val_false_negatives_21: 9986.0000\n",
            "Epoch 6/100\n",
            "16/16 [==============================] - 6s 395ms/step - loss: 0.3091 - binary_accuracy: 0.8998 - false_negatives_21: 543.0000 - val_loss: 0.3029 - val_binary_accuracy: 0.9000 - val_false_negatives_21: 9937.0000\n",
            "Epoch 7/100\n",
            "16/16 [==============================] - 6s 398ms/step - loss: 0.3040 - binary_accuracy: 0.9000 - false_negatives_21: 543.0000 - val_loss: 0.3000 - val_binary_accuracy: 0.8998 - val_false_negatives_21: 9883.0000\n",
            "Epoch 8/100\n",
            "16/16 [==============================] - 6s 403ms/step - loss: 0.3072 - binary_accuracy: 0.8998 - false_negatives_21: 540.0000 - val_loss: 0.3139 - val_binary_accuracy: 0.9000 - val_false_negatives_21: 9947.0000\n",
            "Epoch 9/100\n",
            "16/16 [==============================] - 6s 402ms/step - loss: 0.3011 - binary_accuracy: 0.9000 - false_negatives_21: 544.0000 - val_loss: 0.3308 - val_binary_accuracy: 0.8969 - val_false_negatives_21: 9798.0000\n",
            "Epoch 10/100\n",
            "16/16 [==============================] - 6s 402ms/step - loss: 0.2988 - binary_accuracy: 0.9002 - false_negatives_21: 543.0000 - val_loss: 0.3249 - val_binary_accuracy: 0.8977 - val_false_negatives_21: 9794.0000\n",
            "Epoch 11/100\n",
            "16/16 [==============================] - 6s 403ms/step - loss: 0.2918 - binary_accuracy: 0.9004 - false_negatives_21: 539.0000 - val_loss: 0.3232 - val_binary_accuracy: 0.8921 - val_false_negatives_21: 9401.0000\n",
            "Epoch 12/100\n",
            "16/16 [==============================] - 6s 403ms/step - loss: 0.2942 - binary_accuracy: 0.8985 - false_negatives_21: 535.0000 - val_loss: 0.3403 - val_binary_accuracy: 0.8913 - val_false_negatives_21: 9485.0000\n",
            "Epoch 13/100\n",
            "16/16 [==============================] - 6s 405ms/step - loss: 0.2909 - binary_accuracy: 0.8989 - false_negatives_21: 536.0000 - val_loss: 0.3137 - val_binary_accuracy: 0.8953 - val_false_negatives_21: 9515.0000\n",
            "Epoch 14/100\n",
            "16/16 [==============================] - 6s 400ms/step - loss: 0.2923 - binary_accuracy: 0.8982 - false_negatives_21: 540.0000 - val_loss: 0.3215 - val_binary_accuracy: 0.8912 - val_false_negatives_21: 9366.0000\n",
            "Epoch 15/100\n",
            "16/16 [==============================] - 6s 397ms/step - loss: 0.2888 - binary_accuracy: 0.8996 - false_negatives_21: 539.0000 - val_loss: 0.3035 - val_binary_accuracy: 0.8968 - val_false_negatives_21: 9528.0000\n",
            "Epoch 16/100\n",
            "16/16 [==============================] - 6s 397ms/step - loss: 0.2831 - binary_accuracy: 0.8998 - false_negatives_21: 532.0000 - val_loss: 0.2993 - val_binary_accuracy: 0.8962 - val_false_negatives_21: 9587.0000\n",
            "Epoch 17/100\n",
            "16/16 [==============================] - 6s 404ms/step - loss: 0.2743 - binary_accuracy: 0.8993 - false_negatives_21: 532.0000 - val_loss: 0.3026 - val_binary_accuracy: 0.8962 - val_false_negatives_21: 9351.0000\n",
            "Epoch 18/100\n",
            "16/16 [==============================] - 6s 402ms/step - loss: 0.2800 - binary_accuracy: 0.8993 - false_negatives_21: 522.0000 - val_loss: 0.2928 - val_binary_accuracy: 0.8986 - val_false_negatives_21: 9531.0000\n",
            "Epoch 19/100\n",
            "16/16 [==============================] - 6s 399ms/step - loss: 0.2919 - binary_accuracy: 0.8978 - false_negatives_21: 536.0000 - val_loss: 0.3536 - val_binary_accuracy: 0.8757 - val_false_negatives_21: 8991.0000\n",
            "Epoch 20/100\n",
            "16/16 [==============================] - 6s 405ms/step - loss: 0.2846 - binary_accuracy: 0.9004 - false_negatives_21: 526.0000 - val_loss: 0.3535 - val_binary_accuracy: 0.8722 - val_false_negatives_21: 8530.0000\n",
            "Epoch 21/100\n",
            "16/16 [==============================] - 6s 402ms/step - loss: 0.2790 - binary_accuracy: 0.9000 - false_negatives_21: 530.0000 - val_loss: 0.3440 - val_binary_accuracy: 0.8828 - val_false_negatives_21: 8871.0000\n",
            "Epoch 22/100\n",
            "16/16 [==============================] - 6s 398ms/step - loss: 0.2762 - binary_accuracy: 0.9017 - false_negatives_21: 523.0000 - val_loss: 0.3082 - val_binary_accuracy: 0.8937 - val_false_negatives_21: 8838.0000\n",
            "Epoch 23/100\n",
            "16/16 [==============================] - 6s 399ms/step - loss: 0.2751 - binary_accuracy: 0.9000 - false_negatives_21: 524.0000 - val_loss: 0.3339 - val_binary_accuracy: 0.8829 - val_false_negatives_21: 8698.0000\n",
            "Epoch 24/100\n",
            "16/16 [==============================] - 6s 402ms/step - loss: 0.2781 - binary_accuracy: 0.9004 - false_negatives_21: 513.0000 - val_loss: 0.3213 - val_binary_accuracy: 0.8897 - val_false_negatives_21: 8888.0000\n",
            "Epoch 25/100\n",
            "16/16 [==============================] - 6s 403ms/step - loss: 0.2672 - binary_accuracy: 0.9022 - false_negatives_21: 513.0000 - val_loss: 0.3027 - val_binary_accuracy: 0.8952 - val_false_negatives_21: 9097.0000\n",
            "Epoch 26/100\n",
            "16/16 [==============================] - 6s 398ms/step - loss: 0.2698 - binary_accuracy: 0.9000 - false_negatives_21: 517.0000 - val_loss: 0.3179 - val_binary_accuracy: 0.8889 - val_false_negatives_21: 8646.0000\n",
            "Epoch 27/100\n",
            "16/16 [==============================] - 6s 397ms/step - loss: 0.2715 - binary_accuracy: 0.9015 - false_negatives_21: 510.0000 - val_loss: 0.3169 - val_binary_accuracy: 0.8946 - val_false_negatives_21: 8934.0000\n",
            "Epoch 28/100\n",
            "16/16 [==============================] - 6s 407ms/step - loss: 0.2666 - binary_accuracy: 0.9011 - false_negatives_21: 502.0000 - val_loss: 0.3130 - val_binary_accuracy: 0.8934 - val_false_negatives_21: 8902.0000\n",
            "Epoch 29/100\n",
            "16/16 [==============================] - 6s 400ms/step - loss: 0.2604 - binary_accuracy: 0.9013 - false_negatives_21: 502.0000 - val_loss: 0.2971 - val_binary_accuracy: 0.8931 - val_false_negatives_21: 8909.0000\n",
            "Epoch 30/100\n",
            "16/16 [==============================] - 6s 400ms/step - loss: 0.2693 - binary_accuracy: 0.9000 - false_negatives_21: 499.0000 - val_loss: 0.3423 - val_binary_accuracy: 0.8857 - val_false_negatives_21: 8762.0000\n",
            "Epoch 31/100\n",
            "16/16 [==============================] - 6s 405ms/step - loss: 0.2696 - binary_accuracy: 0.8993 - false_negatives_21: 508.0000 - val_loss: 0.3281 - val_binary_accuracy: 0.8832 - val_false_negatives_21: 8318.0000\n",
            "Epoch 32/100\n",
            "16/16 [==============================] - 6s 398ms/step - loss: 0.2615 - binary_accuracy: 0.8996 - false_negatives_21: 503.0000 - val_loss: 0.3047 - val_binary_accuracy: 0.8954 - val_false_negatives_21: 8646.0000\n",
            "Epoch 33/100\n",
            "16/16 [==============================] - 6s 398ms/step - loss: 0.2604 - binary_accuracy: 0.9011 - false_negatives_21: 491.0000 - val_loss: 0.3158 - val_binary_accuracy: 0.8897 - val_false_negatives_21: 8413.0000\n",
            "Epoch 34/100\n",
            "16/16 [==============================] - 6s 400ms/step - loss: 0.2661 - binary_accuracy: 0.9048 - false_negatives_21: 487.0000 - val_loss: 0.3175 - val_binary_accuracy: 0.8894 - val_false_negatives_21: 8463.0000\n",
            "Epoch 35/100\n",
            "16/16 [==============================] - 6s 398ms/step - loss: 0.2716 - binary_accuracy: 0.8998 - false_negatives_21: 512.0000 - val_loss: 0.3187 - val_binary_accuracy: 0.8839 - val_false_negatives_21: 8348.0000\n",
            "Epoch 36/100\n",
            "16/16 [==============================] - 6s 403ms/step - loss: 0.2608 - binary_accuracy: 0.9050 - false_negatives_21: 485.0000 - val_loss: 0.2996 - val_binary_accuracy: 0.8936 - val_false_negatives_21: 8854.0000\n",
            "Epoch 37/100\n",
            "16/16 [==============================] - 6s 395ms/step - loss: 0.2512 - binary_accuracy: 0.9053 - false_negatives_21: 478.0000 - val_loss: 0.3077 - val_binary_accuracy: 0.8893 - val_false_negatives_21: 8361.0000\n",
            "Epoch 38/100\n",
            "16/16 [==============================] - 6s 398ms/step - loss: 0.2652 - binary_accuracy: 0.9026 - false_negatives_21: 487.0000 - val_loss: 0.2993 - val_binary_accuracy: 0.8933 - val_false_negatives_21: 8540.0000\n",
            "Epoch 39/100\n",
            "16/16 [==============================] - 6s 398ms/step - loss: 0.2673 - binary_accuracy: 0.9007 - false_negatives_21: 493.0000 - val_loss: 0.3107 - val_binary_accuracy: 0.8842 - val_false_negatives_21: 8376.0000\n",
            "Epoch 40/100\n",
            "16/16 [==============================] - 6s 396ms/step - loss: 0.2684 - binary_accuracy: 0.9024 - false_negatives_21: 495.0000 - val_loss: 0.3006 - val_binary_accuracy: 0.8902 - val_false_negatives_21: 8649.0000\n",
            "Epoch 41/100\n",
            "16/16 [==============================] - 6s 396ms/step - loss: 0.2568 - binary_accuracy: 0.9040 - false_negatives_21: 487.0000 - val_loss: 0.2994 - val_binary_accuracy: 0.8950 - val_false_negatives_21: 8508.0000\n",
            "Epoch 42/100\n",
            "16/16 [==============================] - 6s 400ms/step - loss: 0.2622 - binary_accuracy: 0.9031 - false_negatives_21: 499.0000 - val_loss: 0.2871 - val_binary_accuracy: 0.8977 - val_false_negatives_21: 8385.0000\n",
            "Epoch 43/100\n",
            "16/16 [==============================] - 6s 406ms/step - loss: 0.2604 - binary_accuracy: 0.9042 - false_negatives_21: 483.0000 - val_loss: 0.2920 - val_binary_accuracy: 0.8950 - val_false_negatives_21: 8349.0000\n",
            "Epoch 44/100\n",
            "16/16 [==============================] - 6s 404ms/step - loss: 0.2570 - binary_accuracy: 0.9046 - false_negatives_21: 480.0000 - val_loss: 0.2932 - val_binary_accuracy: 0.8938 - val_false_negatives_21: 8613.0000\n",
            "Epoch 45/100\n",
            "16/16 [==============================] - 6s 397ms/step - loss: 0.2566 - binary_accuracy: 0.9026 - false_negatives_21: 489.0000 - val_loss: 0.3382 - val_binary_accuracy: 0.8863 - val_false_negatives_21: 8320.0000\n",
            "Epoch 46/100\n",
            "16/16 [==============================] - 6s 401ms/step - loss: 0.2531 - binary_accuracy: 0.9053 - false_negatives_21: 470.0000 - val_loss: 0.3005 - val_binary_accuracy: 0.8945 - val_false_negatives_21: 8657.0000\n",
            "Epoch 47/100\n",
            "16/16 [==============================] - 6s 399ms/step - loss: 0.2547 - binary_accuracy: 0.9007 - false_negatives_21: 478.0000 - val_loss: 0.2935 - val_binary_accuracy: 0.8964 - val_false_negatives_21: 8585.0000\n",
            "Epoch 48/100\n",
            "16/16 [==============================] - 6s 404ms/step - loss: 0.2644 - binary_accuracy: 0.9009 - false_negatives_21: 488.0000 - val_loss: 0.3046 - val_binary_accuracy: 0.8933 - val_false_negatives_21: 8640.0000\n",
            "Epoch 49/100\n",
            "16/16 [==============================] - 6s 403ms/step - loss: 0.2508 - binary_accuracy: 0.9042 - false_negatives_21: 478.0000 - val_loss: 0.3105 - val_binary_accuracy: 0.8904 - val_false_negatives_21: 8478.0000\n",
            "Epoch 50/100\n",
            "16/16 [==============================] - 6s 401ms/step - loss: 0.2553 - binary_accuracy: 0.9044 - false_negatives_21: 481.0000 - val_loss: 0.2989 - val_binary_accuracy: 0.8919 - val_false_negatives_21: 8089.0000\n",
            "Epoch 51/100\n",
            "16/16 [==============================] - 6s 404ms/step - loss: 0.2487 - binary_accuracy: 0.9057 - false_negatives_21: 459.0000 - val_loss: 0.3041 - val_binary_accuracy: 0.8905 - val_false_negatives_21: 8379.0000\n",
            "Epoch 52/100\n",
            "16/16 [==============================] - 6s 404ms/step - loss: 0.2528 - binary_accuracy: 0.9048 - false_negatives_21: 465.0000 - val_loss: 0.3084 - val_binary_accuracy: 0.8874 - val_false_negatives_21: 8043.0000\n",
            "Epoch 53/100\n",
            "16/16 [==============================] - 6s 400ms/step - loss: 0.2533 - binary_accuracy: 0.9040 - false_negatives_21: 468.0000 - val_loss: 0.2936 - val_binary_accuracy: 0.8944 - val_false_negatives_21: 8408.0000\n",
            "Epoch 54/100\n",
            "16/16 [==============================] - 6s 403ms/step - loss: 0.2461 - binary_accuracy: 0.9059 - false_negatives_21: 464.0000 - val_loss: 0.2963 - val_binary_accuracy: 0.8934 - val_false_negatives_21: 8129.0000\n",
            "Epoch 55/100\n",
            "16/16 [==============================] - 6s 399ms/step - loss: 0.2588 - binary_accuracy: 0.9026 - false_negatives_21: 479.0000 - val_loss: 0.2760 - val_binary_accuracy: 0.8982 - val_false_negatives_21: 8523.0000\n",
            "Epoch 56/100\n",
            "16/16 [==============================] - 6s 397ms/step - loss: 0.2640 - binary_accuracy: 0.9033 - false_negatives_21: 472.0000 - val_loss: 0.2969 - val_binary_accuracy: 0.8973 - val_false_negatives_21: 8660.0000\n",
            "Epoch 57/100\n",
            "16/16 [==============================] - 6s 394ms/step - loss: 0.2580 - binary_accuracy: 0.9035 - false_negatives_21: 486.0000 - val_loss: 0.2939 - val_binary_accuracy: 0.8976 - val_false_negatives_21: 8470.0000\n",
            "Epoch 58/100\n",
            "16/16 [==============================] - 6s 402ms/step - loss: 0.2514 - binary_accuracy: 0.9061 - false_negatives_21: 474.0000 - val_loss: 0.3164 - val_binary_accuracy: 0.8837 - val_false_negatives_21: 8050.0000\n",
            "Epoch 59/100\n",
            "16/16 [==============================] - 6s 405ms/step - loss: 0.2536 - binary_accuracy: 0.9055 - false_negatives_21: 473.0000 - val_loss: 0.3019 - val_binary_accuracy: 0.8937 - val_false_negatives_21: 8144.0000\n",
            "Epoch 60/100\n",
            "16/16 [==============================] - 6s 395ms/step - loss: 0.2415 - binary_accuracy: 0.9059 - false_negatives_21: 460.0000 - val_loss: 0.2917 - val_binary_accuracy: 0.8930 - val_false_negatives_21: 8174.0000\n",
            "Epoch 61/100\n",
            "16/16 [==============================] - 6s 400ms/step - loss: 0.2503 - binary_accuracy: 0.9068 - false_negatives_21: 456.0000 - val_loss: 0.2804 - val_binary_accuracy: 0.8989 - val_false_negatives_21: 8239.0000\n",
            "Epoch 62/100\n",
            "16/16 [==============================] - 6s 401ms/step - loss: 0.2594 - binary_accuracy: 0.9035 - false_negatives_21: 451.0000 - val_loss: 0.2870 - val_binary_accuracy: 0.8955 - val_false_negatives_21: 8386.0000\n",
            "Epoch 63/100\n",
            "16/16 [==============================] - 6s 397ms/step - loss: 0.2560 - binary_accuracy: 0.9088 - false_negatives_21: 460.0000 - val_loss: 0.2758 - val_binary_accuracy: 0.8990 - val_false_negatives_21: 8401.0000\n",
            "Epoch 64/100\n",
            "16/16 [==============================] - 6s 398ms/step - loss: 0.2497 - binary_accuracy: 0.9053 - false_negatives_21: 474.0000 - val_loss: 0.3045 - val_binary_accuracy: 0.8972 - val_false_negatives_21: 8858.0000\n",
            "Epoch 65/100\n",
            "16/16 [==============================] - 6s 396ms/step - loss: 0.2485 - binary_accuracy: 0.9039 - false_negatives_21: 484.0000 - val_loss: 0.2852 - val_binary_accuracy: 0.8980 - val_false_negatives_21: 8418.0000\n",
            "Epoch 66/100\n",
            "16/16 [==============================] - 6s 399ms/step - loss: 0.2529 - binary_accuracy: 0.9042 - false_negatives_21: 472.0000 - val_loss: 0.3004 - val_binary_accuracy: 0.8898 - val_false_negatives_21: 8268.0000\n",
            "Epoch 67/100\n",
            "16/16 [==============================] - 6s 398ms/step - loss: 0.2424 - binary_accuracy: 0.9066 - false_negatives_21: 455.0000 - val_loss: 0.2818 - val_binary_accuracy: 0.8946 - val_false_negatives_21: 8214.0000\n",
            "Epoch 68/100\n",
            "16/16 [==============================] - 6s 397ms/step - loss: 0.2457 - binary_accuracy: 0.9094 - false_negatives_21: 439.0000 - val_loss: 0.2740 - val_binary_accuracy: 0.9009 - val_false_negatives_21: 8299.0000\n",
            "Epoch 69/100\n",
            "16/16 [==============================] - 6s 396ms/step - loss: 0.2533 - binary_accuracy: 0.9057 - false_negatives_21: 459.0000 - val_loss: 0.2960 - val_binary_accuracy: 0.8896 - val_false_negatives_21: 8342.0000\n",
            "Epoch 70/100\n",
            "16/16 [==============================] - 6s 399ms/step - loss: 0.2438 - binary_accuracy: 0.9053 - false_negatives_21: 447.0000 - val_loss: 0.2878 - val_binary_accuracy: 0.8967 - val_false_negatives_21: 8016.0000\n",
            "Epoch 71/100\n",
            "16/16 [==============================] - 6s 398ms/step - loss: 0.2354 - binary_accuracy: 0.9075 - false_negatives_21: 439.0000 - val_loss: 0.3057 - val_binary_accuracy: 0.8901 - val_false_negatives_21: 8214.0000\n",
            "Epoch 72/100\n",
            "16/16 [==============================] - 6s 399ms/step - loss: 0.2460 - binary_accuracy: 0.9070 - false_negatives_21: 448.0000 - val_loss: 0.3287 - val_binary_accuracy: 0.8876 - val_false_negatives_21: 8567.0000\n",
            "Epoch 73/100\n",
            "16/16 [==============================] - 6s 398ms/step - loss: 0.2422 - binary_accuracy: 0.9101 - false_negatives_21: 437.0000 - val_loss: 0.2831 - val_binary_accuracy: 0.8970 - val_false_negatives_21: 8081.0000\n",
            "Epoch 74/100\n",
            "16/16 [==============================] - 6s 398ms/step - loss: 0.2469 - binary_accuracy: 0.9055 - false_negatives_21: 457.0000 - val_loss: 0.2981 - val_binary_accuracy: 0.8881 - val_false_negatives_21: 8079.0000\n",
            "Epoch 75/100\n",
            "16/16 [==============================] - 6s 398ms/step - loss: 0.2379 - binary_accuracy: 0.9064 - false_negatives_21: 441.0000 - val_loss: 0.2743 - val_binary_accuracy: 0.8978 - val_false_negatives_21: 8277.0000\n",
            "Epoch 76/100\n",
            "16/16 [==============================] - 6s 399ms/step - loss: 0.2379 - binary_accuracy: 0.9108 - false_negatives_21: 437.0000 - val_loss: 0.2950 - val_binary_accuracy: 0.8892 - val_false_negatives_21: 8116.0000\n",
            "Epoch 77/100\n",
            "16/16 [==============================] - 6s 401ms/step - loss: 0.2496 - binary_accuracy: 0.9029 - false_negatives_21: 454.0000 - val_loss: 0.2881 - val_binary_accuracy: 0.8958 - val_false_negatives_21: 8278.0000\n",
            "Epoch 78/100\n",
            "16/16 [==============================] - 6s 400ms/step - loss: 0.2414 - binary_accuracy: 0.9107 - false_negatives_21: 438.0000 - val_loss: 0.2719 - val_binary_accuracy: 0.8990 - val_false_negatives_21: 8267.0000\n",
            "Epoch 79/100\n",
            "16/16 [==============================] - 6s 399ms/step - loss: 0.2423 - binary_accuracy: 0.9112 - false_negatives_21: 439.0000 - val_loss: 0.2901 - val_binary_accuracy: 0.8942 - val_false_negatives_21: 8161.0000\n",
            "Epoch 80/100\n",
            "16/16 [==============================] - 6s 398ms/step - loss: 0.2519 - binary_accuracy: 0.9026 - false_negatives_21: 452.0000 - val_loss: 0.3305 - val_binary_accuracy: 0.8869 - val_false_negatives_21: 8580.0000\n",
            "Epoch 81/100\n",
            "16/16 [==============================] - 6s 399ms/step - loss: 0.2324 - binary_accuracy: 0.9114 - false_negatives_21: 435.0000 - val_loss: 0.3000 - val_binary_accuracy: 0.8924 - val_false_negatives_21: 8291.0000\n",
            "Epoch 82/100\n",
            "16/16 [==============================] - 6s 396ms/step - loss: 0.2436 - binary_accuracy: 0.9064 - false_negatives_21: 450.0000 - val_loss: 0.2870 - val_binary_accuracy: 0.8971 - val_false_negatives_21: 8158.0000\n",
            "Epoch 83/100\n",
            "16/16 [==============================] - 6s 396ms/step - loss: 0.2410 - binary_accuracy: 0.9053 - false_negatives_21: 438.0000 - val_loss: 0.2916 - val_binary_accuracy: 0.8929 - val_false_negatives_21: 8156.0000\n",
            "Epoch 84/100\n",
            "16/16 [==============================] - 6s 400ms/step - loss: 0.2391 - binary_accuracy: 0.9096 - false_negatives_21: 437.0000 - val_loss: 0.2977 - val_binary_accuracy: 0.8973 - val_false_negatives_21: 8496.0000\n",
            "Epoch 85/100\n",
            "16/16 [==============================] - 6s 400ms/step - loss: 0.2476 - binary_accuracy: 0.9094 - false_negatives_21: 451.0000 - val_loss: 0.2827 - val_binary_accuracy: 0.8984 - val_false_negatives_21: 8277.0000\n",
            "Epoch 86/100\n",
            "16/16 [==============================] - 6s 399ms/step - loss: 0.2499 - binary_accuracy: 0.9031 - false_negatives_21: 453.0000 - val_loss: 0.3071 - val_binary_accuracy: 0.8918 - val_false_negatives_21: 8164.0000\n",
            "Epoch 87/100\n",
            "16/16 [==============================] - 6s 397ms/step - loss: 0.2450 - binary_accuracy: 0.9062 - false_negatives_21: 458.0000 - val_loss: 0.2885 - val_binary_accuracy: 0.8942 - val_false_negatives_21: 8365.0000\n",
            "Epoch 88/100\n",
            "16/16 [==============================] - 6s 402ms/step - loss: 0.2506 - binary_accuracy: 0.9053 - false_negatives_21: 465.0000 - val_loss: 0.2868 - val_binary_accuracy: 0.8951 - val_false_negatives_21: 8134.0000\n",
            "Epoch 89/100\n",
            "16/16 [==============================] - 6s 403ms/step - loss: 0.2335 - binary_accuracy: 0.9099 - false_negatives_21: 433.0000 - val_loss: 0.2915 - val_binary_accuracy: 0.8959 - val_false_negatives_21: 8351.0000\n",
            "Epoch 90/100\n",
            "16/16 [==============================] - 6s 405ms/step - loss: 0.2467 - binary_accuracy: 0.9048 - false_negatives_21: 444.0000 - val_loss: 0.2964 - val_binary_accuracy: 0.8939 - val_false_negatives_21: 8216.0000\n",
            "Epoch 91/100\n",
            "16/16 [==============================] - 6s 400ms/step - loss: 0.2333 - binary_accuracy: 0.9094 - false_negatives_21: 429.0000 - val_loss: 0.2843 - val_binary_accuracy: 0.8985 - val_false_negatives_21: 8273.0000\n",
            "Epoch 92/100\n",
            "16/16 [==============================] - 6s 406ms/step - loss: 0.2436 - binary_accuracy: 0.9037 - false_negatives_21: 451.0000 - val_loss: 0.2795 - val_binary_accuracy: 0.8967 - val_false_negatives_21: 8278.0000\n",
            "Epoch 93/100\n",
            "16/16 [==============================] - 6s 404ms/step - loss: 0.2384 - binary_accuracy: 0.9070 - false_negatives_21: 443.0000 - val_loss: 0.2851 - val_binary_accuracy: 0.8957 - val_false_negatives_21: 8246.0000\n",
            "Epoch 94/100\n",
            "16/16 [==============================] - 6s 406ms/step - loss: 0.2419 - binary_accuracy: 0.9072 - false_negatives_21: 448.0000 - val_loss: 0.3181 - val_binary_accuracy: 0.8830 - val_false_negatives_21: 8309.0000\n",
            "Epoch 95/100\n",
            "16/16 [==============================] - 6s 402ms/step - loss: 0.2394 - binary_accuracy: 0.9072 - false_negatives_21: 447.0000 - val_loss: 0.2949 - val_binary_accuracy: 0.8960 - val_false_negatives_21: 8187.0000\n",
            "Epoch 96/100\n",
            "16/16 [==============================] - 6s 403ms/step - loss: 0.2434 - binary_accuracy: 0.9068 - false_negatives_21: 452.0000 - val_loss: 0.3094 - val_binary_accuracy: 0.8879 - val_false_negatives_21: 8417.0000\n",
            "Epoch 97/100\n",
            "16/16 [==============================] - 6s 401ms/step - loss: 0.2365 - binary_accuracy: 0.9099 - false_negatives_21: 431.0000 - val_loss: 0.3046 - val_binary_accuracy: 0.8954 - val_false_negatives_21: 8360.0000\n",
            "Epoch 98/100\n",
            "16/16 [==============================] - 6s 402ms/step - loss: 0.2447 - binary_accuracy: 0.9088 - false_negatives_21: 433.0000 - val_loss: 0.2850 - val_binary_accuracy: 0.8976 - val_false_negatives_21: 8263.0000\n",
            "Epoch 99/100\n",
            "16/16 [==============================] - 6s 400ms/step - loss: 0.2416 - binary_accuracy: 0.9072 - false_negatives_21: 453.0000 - val_loss: 0.2937 - val_binary_accuracy: 0.8924 - val_false_negatives_21: 8171.0000\n",
            "Epoch 100/100\n",
            "16/16 [==============================] - 6s 398ms/step - loss: 0.2286 - binary_accuracy: 0.9140 - false_negatives_21: 422.0000 - val_loss: 0.2729 - val_binary_accuracy: 0.8990 - val_false_negatives_21: 8038.0000\n",
            "dict_keys(['loss', 'binary_accuracy', 'false_negatives_21', 'val_loss', 'val_binary_accuracy', 'val_false_negatives_21'])\n"
          ]
        },
        {
          "output_type": "display_data",
          "data": {
            "image/png": "[encoded data removed]",
            "text/plain": [
              "<Figure size 432x288 with 1 Axes>"
            ]
          },
          "metadata": {
            "needs_background": "light"
          }
        },
        {
          "output_type": "display_data",
          "data": {
            "image/png": "[encoded data removed]",
            "text/plain": [
              "<Figure size 432x288 with 1 Axes>"
            ]
          },
          "metadata": {
            "needs_background": "light"
          }
        }
      ]
    },
    {
      "cell_type": "markdown",
      "metadata": {
        "id": "wxxaUv7qk-Zr"
      },
      "source": [
        "# EX2: Lenet-like auto-encoder.\n",
        "\n",
        "This one is very hard, It is fine if you do not finish.\n",
        "It's about autoencoders, feel free to read more about autoencoders : https://blog.keras.io/building-autoencoders-in-keras.html\n",
        "\n",
        "Autoencoders are a very special kind of model. Input $x$ is an image, output $y$ is an image. The model is supposed to predict $x = y$ ! Usually, you build an autoencoder to create a 'deep' representation of your images : the model break your image into a high level descriptor that is useful to build your image back (the descriptors' space is supposed to be very powerful for clustering and image matching algorithms). The representation is built in an unsupervised way ; if $f$ is the function defined by your model, then you expect $f$ to be such as:\n",
        "$$f(x) = y;$$\n",
        "$$x = y$$\n",
        "So you try to minimize $||f(x) - x||^2$ (mean squared error)"
      ]
    },
    {
      "cell_type": "markdown",
      "metadata": {
        "id": "k_IaGLkclOmM"
      },
      "source": [
        "## 1- Build model architecture\n",
        "The architecture has to be a CLASS called \"Autoencoder\".\n",
        "\n",
        "Basically, an autoencoder has two parts:\n",
        "- the Encoder $(conv2D-Maxpooling)\\times n$\n",
        "- the Decoder $(conv2D-Upsampling)\\times n$\n",
        "\n",
        "\n",
        "Autoencoder has no input tensor. But it has a \\_\\_call\\_\\_ function and can therefore be called on an input later.\n",
        "\n",
        "------------------------------\n",
        "\n",
        "For the Encoder:\n",
        "\n",
        "The rule to go from depth d to depth d+1, is to reduce the spatial size by a factor of 2 in each direction.\n",
        "\n",
        "------------------------------\n",
        "For the Decoder:\n",
        "\n",
        "The rule to go from depth d to depth d+1, is to increase the spatial size by a factor of 2 in each direction.\n"
      ]
    },
    {
      "cell_type": "code",
      "metadata": {
        "id": "mCG3NvJJpy8B"
      },
      "source": [
        "from keras.layers import BatchNormalization, UpSampling2D"
      ],
      "execution_count": null,
      "outputs": []
    },
    {
      "cell_type": "code",
      "metadata": {
        "id": "hJ8Io8DFp0sI"
      },
      "source": [
        "OUTDIR = \"/content/drive/My Drive/Autoencoding\"\n",
        "if not os.path.exists(OUTDIR):\n",
        "  os.makedirs(OUTDIR)"
      ],
      "execution_count": null,
      "outputs": []
    },
    {
      "cell_type": "code",
      "metadata": {
        "id": "L2XEJ0oTESRR"
      },
      "source": [
        "# first model\n",
        "# Lenet-like\n",
        "class Autoencoder:\n",
        "  \"\"\"\n",
        "  Aurtoencoder architecture.\n",
        "  \"\"\"\n",
        "  def __init__(self):\n",
        "    \"\"\"\n",
        "    Architecture settings.\n",
        "    \"\"\"\n",
        "    # nothing to do in the init.\n",
        "  \n",
        "  def __call__(self, X):\n",
        "    \"\"\"\n",
        "    Call autoencoder layers on the inputs.\n",
        "    \"\"\"\n",
        "\n",
        "    # encode\n",
        "    Y = ...\n",
        "    Y = ...\n",
        "    Y = ...\n",
        "    # decode\n",
        "    Y = ...\n",
        "    Y = ...\n",
        "    Y = ...\n",
        "\n",
        "    return Y"
      ],
      "execution_count": null,
      "outputs": []
    },
    {
      "cell_type": "markdown",
      "metadata": {
        "id": "QyQr2CKeqk8b"
      },
      "source": [
        "## 2- A function to create a model with your Autoencoder architecture\n",
        "I want the model to be able to fit on the following datasets:\n",
        "\n",
        "- cifar-10\n",
        "\n",
        "Create a function called \"make_autoencoder_model\" that take no argument.\n",
        "It only returns a keras Model object."
      ]
    },
    {
      "cell_type": "code",
      "metadata": {
        "id": "tiF9FQEBqbHB"
      },
      "source": [
        "def make_autoencoder_model():\n",
        "  \"\"\"\n",
        "  Create and compile autoencoder keras model.\n",
        "  \"\"\"\n",
        "  X = Input(batch_shape=(...))\n",
        "  Y = Autoencoder()(X)\n",
        "  model = Model(inputs=X, outputs=Y)\n",
        "  model.compile(optimizer='adam', metrics=['accuracy'], loss='mean_squared_error')\n",
        "  return model"
      ],
      "execution_count": null,
      "outputs": []
    },
    {
      "cell_type": "markdown",
      "metadata": {
        "id": "gIk0P030rHwK"
      },
      "source": [
        "Useful function to plot the resulting image produced by your autoencoder.\n",
        "Read them carefully if you want to plot your output correctly (especially 'comparison')"
      ]
    },
    {
      "cell_type": "code",
      "metadata": {
        "id": "kk8X5Vm4rGEr"
      },
      "source": [
        "def stack_horizontally(min, max, images):\n",
        "    return numpy.hstack(images[i] for i in range(min, max))\n",
        "\n",
        "def stack_vertically(length, height, images):\n",
        "    return numpy.vstack(stack_horizontally(i * length, (i + 1) * length, images) for i in range(height))\n",
        "\n",
        "def comparison(inputimgs, outputimgs, length, height):\n",
        "    A = stack_vertically(length, height, inputimgs)\n",
        "    B = stack_vertically(length, height, outputimgs)\n",
        "    C = numpy.ones((A.shape[0], 32, 3))\n",
        "    return numpy.hstack((A, C, B))"
      ],
      "execution_count": null,
      "outputs": []
    },
    {
      "cell_type": "markdown",
      "metadata": {
        "id": "muPRC6hfseSH"
      },
      "source": [
        "## 3- Create a fitting function\n",
        "\n",
        "I want a function \"fit_model_cifar10\" with the following arguments:\n",
        "\n",
        "- dataset: str name of the dataset\n",
        "- n_epochs: number of times you fit on the entire training set\n",
        "- batch_size: number of images to average gradient on\n",
        "- visualization_size (square root of number of test pred you wanna show to check your result)\n",
        "- verbose (debug purpose to see tensor dimensions in your architecture)\n",
        "\n",
        "The function must create an autoencoder model and fit it following these parameters.\n",
        "The function should:\n",
        "\n",
        "- fit the model, obviously\n",
        "- store the model architecture in a .json file in your output directory\n",
        "- store the model's weights in a .h5 file in your output directory\n",
        "- store the fitting metrics loss, validation_loss, under the form of a plot exported in a png file.\n",
        "- store the rebuilt test images under the form of a plot exported in a png file.\n",
        "\n",
        "Run your fitting function of course."
      ]
    },
    {
      "cell_type": "code",
      "metadata": {
        "id": "-yXeUGocrRDp"
      },
      "source": [
        "def fit_model_on_cifar10(n_epochs=3, batch_size=128, visualization_size=5, verbose=1):\n",
        "\n",
        "  model_filename = \"autoencoder_cifar10.json\"\n",
        "  weight_filename = \"autoencoder_cifar10_weights.h5\"\n",
        "  lossplot_filename = \"autoencoder_cifar10_loss.png\"\n",
        "  visuplot_filename = \"autoencoder_cifar10_visu.png\"\n",
        "  # create your model and call it on your dataset\n",
        "  model = ...\n",
        "  if verbose > 0:\n",
        "    print(model.summary())\n",
        "  (x_train, _), (x_test, _) = cifar10.load_data()\n",
        "  # Be sure that your training/test data is 'float32'\n",
        "  x_train = ...\n",
        "  x_test = ...\n",
        "  # Be sure that your training/test data are between 0 and 1 (pixel image value)\n",
        "  x_train ...\n",
        "  x_test ...\n",
        "  try:\n",
        "    history = model.fit(...)\n",
        "  except KeyboardInterrupt:\n",
        "    print(\"Training interrupted!\")\n",
        "  \n",
        "  # first, save the model\n",
        "  json_str = model.to_json()\n",
        "  model_path = os.path.join(OUTDIR, model_filename)\n",
        "  weight_path = os.path.join(OUTDIR, weight_filename)\n",
        "  with open(model_path, \"w\") as txtfile:\n",
        "    txtfile.write(json_str)\n",
        "  # then, save the weights\n",
        "  model.save_weights(weight_path)\n",
        "  # now, save metrics plots\n",
        "  ..."
      ],
      "execution_count": null,
      "outputs": []
    },
    {
      "cell_type": "code",
      "metadata": {
        "id": "UQEtpB9rsU_2"
      },
      "source": [
        "# fit your model\n",
        "..."
      ],
      "execution_count": null,
      "outputs": []
    }
  ]
}