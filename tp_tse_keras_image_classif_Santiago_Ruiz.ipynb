{
  "nbformat": 4,
  "nbformat_minor": 0,
  "metadata": {
    "colab": {
      "name": "tp_tse_keras_image_classif_Santiago_Ruiz.ipynb",
      "provenance": [],
      "collapsed_sections": [],
      "include_colab_link": true
    },
    "kernelspec": {
      "name": "python3",
      "display_name": "Python 3"
    },
    "accelerator": "GPU"
  },
  "cells": [
    {
      "cell_type": "markdown",
      "metadata": {
        "id": "view-in-github",
        "colab_type": "text"
      },
      "source": [
        "<a href=\"https://colab.research.google.com/github/santiagoruizmoreno/BigData/blob/main/tp_tse_keras_image_classif_Santiago_Ruiz.ipynb\" target=\"_parent\"><img src=\"https://colab.research.google.com/assets/colab-badge.svg\" alt=\"Open In Colab\"/></a>"
      ]
    },
    {
      "cell_type": "markdown",
      "metadata": {
        "id": "zu6N7RJ7dUoa"
      },
      "source": [
        "# Introduction\n",
        "This practical work is about creation of elementary models in keras.\n",
        "While it focuses on image classification, it illustrates many important functionalities of the keras framework and tries to provide the user with good deep-learning development strategies.\n",
        "\n",
        "-------------------------------------\n",
        "\n",
        "Please, read the doc, everything is pretty well explained: https://keras.io/api/\n",
        "\n",
        "Check also the tutos:\n",
        "- https://blog.keras.io/\n",
        "- https://machinelearningmastery.com/\n"
      ]
    },
    {
      "cell_type": "code",
      "metadata": {
        "id": "diDc6LA-ABob",
        "colab": {
          "base_uri": "https://localhost:8080/"
        },
        "outputId": "6e33d8fe-5b1e-4856-ab38-59caef146951"
      },
      "source": [
        "from google.colab import drive\n",
        "drive.mount('/content/drive')\n"
      ],
      "execution_count": 1,
      "outputs": [
        {
          "output_type": "stream",
          "name": "stdout",
          "text": [
            "Drive already mounted at /content/drive; to attempt to forcibly remount, call drive.mount(\"/content/drive\", force_remount=True).\n"
          ]
        }
      ]
    },
    {
      "cell_type": "code",
      "metadata": {
        "id": "AYD_C2WumJye"
      },
      "source": [
        "from keras.datasets import mnist, fashion_mnist, cifar10\n",
        "from keras.preprocessing.image import ImageDataGenerator\n",
        "from keras.models import Model\n",
        "from keras.layers import Conv2D, Dense, Dropout, MaxPooling2D, Flatten, Input\n",
        "from tensorflow.keras.utils import to_categorical\n",
        "import numpy\n",
        "import os\n",
        "from tensorflow.keras.optimizers import SGD, Adam\n",
        "from matplotlib import pyplot as plt"
      ],
      "execution_count": 2,
      "outputs": []
    },
    {
      "cell_type": "markdown",
      "metadata": {
        "id": "tC7Bu-qLdcoI"
      },
      "source": [
        "## Setup\n",
        "Before you start, please mount your google drive.\n",
        "For each exercise, create an output directory to store monitoring data and your model."
      ]
    },
    {
      "cell_type": "code",
      "metadata": {
        "id": "0QNnu_AgBBBR"
      },
      "source": [
        "OUTDIR = \"/content/drive/My Drive/Classification\"\n",
        "if not os.path.exists(OUTDIR):\n",
        "  os.makedirs(OUTDIR)\n",
        "# First, check dimensions of the datasets !\n",
        "\n",
        "# shape of images in cifar10: (32, 32, 3)\n",
        "# shape of images in mnist: (28,28)\n",
        "# shape of images in fashion_mnist: (28, 28)"
      ],
      "execution_count": 3,
      "outputs": []
    },
    {
      "cell_type": "code",
      "source": [
        "(x_train, y_train), (x_test, y_test) = mnist.load_data()"
      ],
      "metadata": {
        "id": "hSAAJq8m3guK"
      },
      "execution_count": 4,
      "outputs": []
    },
    {
      "cell_type": "code",
      "source": [
        "(x_train_fas, y_train_fas), (x_test_fas, y_test_fas) = fashion_mnist.load_data()"
      ],
      "metadata": {
        "id": "52sij4KD6aUC"
      },
      "execution_count": 5,
      "outputs": []
    },
    {
      "cell_type": "code",
      "source": [
        "(x_train_cifar, y_train_cifar), (x_test_cifar, y_test_cifar) = cifar10.load_data()"
      ],
      "metadata": {
        "id": "Wge3pH_T6lSd"
      },
      "execution_count": 6,
      "outputs": []
    },
    {
      "cell_type": "code",
      "source": [
        "#each image is composed of 28 pixels by 28 inside the mnist dataset\n",
        "print (len(x_train[1]))\n",
        "print (len(x_train[1][1]))"
      ],
      "metadata": {
        "id": "iB0l5yRX7JDJ",
        "colab": {
          "base_uri": "https://localhost:8080/"
        },
        "outputId": "8d4091ab-7b41-4a76-d3e6-ee98bd214722"
      },
      "execution_count": 7,
      "outputs": [
        {
          "output_type": "stream",
          "name": "stdout",
          "text": [
            "28\n",
            "28\n"
          ]
        }
      ]
    },
    {
      "cell_type": "code",
      "source": [
        "# each image is composed of \n",
        "print (len(x_train_fas[1]))\n",
        "print (len(x_train_fas[1][1]))"
      ],
      "metadata": {
        "colab": {
          "base_uri": "https://localhost:8080/"
        },
        "id": "lkYaOsIK2Ifc",
        "outputId": "bd1f9f03-c97c-4d17-f969-267d54db0a44"
      },
      "execution_count": 8,
      "outputs": [
        {
          "output_type": "stream",
          "name": "stdout",
          "text": [
            "28\n",
            "28\n"
          ]
        }
      ]
    },
    {
      "cell_type": "code",
      "source": [
        "# each image is composed of 32 x 32 pixels\n",
        "print (len(x_train_cifar[1]))\n",
        "print (len(x_train_cifar[1][1]))\n",
        "print (len(x_train_cifar[1][1][1]))"
      ],
      "metadata": {
        "colab": {
          "base_uri": "https://localhost:8080/"
        },
        "id": "qXJaUL1Q28V9",
        "outputId": "f12cd035-742f-4eec-9d79-762818b64984"
      },
      "execution_count": 9,
      "outputs": [
        {
          "output_type": "stream",
          "name": "stdout",
          "text": [
            "32\n",
            "32\n",
            "3\n"
          ]
        }
      ]
    },
    {
      "cell_type": "code",
      "source": [
        "# That's how the images look like\n",
        "%matplotlib inline \n",
        "import matplotlib.pyplot as plt \n",
        "plt.imshow(x_train_cifar[1])"
      ],
      "metadata": {
        "colab": {
          "base_uri": "https://localhost:8080/",
          "height": 284
        },
        "id": "nbTlTUgw3KeC",
        "outputId": "b45dbe48-5276-435d-a214-18bd72179fcf"
      },
      "execution_count": 10,
      "outputs": [
        {
          "output_type": "execute_result",
          "data": {
            "text/plain": [
              "<matplotlib.image.AxesImage at 0x7f244e234ed0>"
            ]
          },
          "metadata": {},
          "execution_count": 10
        },
        {
          "output_type": "display_data",
          "data": {
            "image/png": "[encoded data removed]",
            "text/plain": [
              "<Figure size 432x288 with 1 Axes>"
            ]
          },
          "metadata": {
            "needs_background": "light"
          }
        }
      ]
    },
    {
      "cell_type": "markdown",
      "metadata": {
        "id": "P-c46sXwd8Eh"
      },
      "source": [
        "# EX1: Lenet-like classifier."
      ]
    },
    {
      "cell_type": "markdown",
      "metadata": {
        "id": "VXrk3AVtfLbS"
      },
      "source": [
        "## 1- Build model architecture\n",
        "The architecture has to be a CLASS called \"Lenet_like\".\n",
        "\n",
        "- I can define the width: number of filters in the first layer.\n",
        "- I can define the depth: number of conv layers.\n",
        "- I can specify the number of classes: output neurons.\n",
        "\n",
        "Lenet_like has no input tensor. But it has a \\_\\_call\\_\\_ function and can therefore be called on an input later.\n",
        "\n",
        "The rule to go from depth d to depth d+1, is to reduce the spatial size by a factor of 2 in each direction.\n",
        "\n",
        "Hidden dense layer will have 512 units."
      ]
    },
    {
      "cell_type": "code",
      "metadata": {
        "id": "jyZwILwynX9Q"
      },
      "source": [
        "# first model\n",
        "# Lenet-like\n",
        "class Lenet_like:\n",
        "  \"\"\"\n",
        "  Lenet like architecture.\n",
        "  \"\"\"\n",
        "  def __init__(self, width, depth, drop, n_classes):\n",
        "    \"\"\"\n",
        "    Architecture settings.\n",
        "\n",
        "    Arguments:\n",
        "      - width: int, first layer number of convolution filters.\n",
        "      - depth: int, number of convolution layer in the network.\n",
        "      - drop: float, dropout rate.\n",
        "      - n_classes: int, number of classes in the dataset.\n",
        "    \"\"\"\n",
        "    self.width = width\n",
        "    self.depth = depth\n",
        "    self.drop = drop\n",
        "    self.n_classes = n_classes\n",
        "  \n",
        "  def __call__(self, X):\n",
        "    \"\"\"\n",
        "    Call classifier layers on the inputs.\n",
        "    \"\"\"\n",
        "    Y = X\n",
        "\n",
        "  \n",
        "    for k in range(self.depth):\n",
        "      # Appliying the convolutional network and its layers\n",
        "           Conv2D(self.width, (3,3,), activation='relu')(Y)\n",
        "      # Dropping out some connections\n",
        "           Dropout(self.drop)(Y)\n",
        "      # Applying max poooling, which reduces the size of the image\n",
        "           MaxPooling2D(pool_size=(3, 3))(Y)\n",
        "           Conv2D(self.width*2, (3, 3), activation='relu', padding='same')(Y)\n",
        "      # Apply successive convolutions to the input !\n",
        "      # Use the functional API to do so\n",
        "    Flatten()(Y)\n",
        "    Dense(1024, activation='relu')(Y)\n",
        "    Dropout(self.drop)(Y)\n",
        "    Dense(512, activation='relu')(Y)\n",
        "    Dense(self.n_classes, activation='relu')(Y)\n",
        "    \n",
        "    # Perceptron\n",
        "    # This is the classification head of the classifier\n",
        "    ...\n",
        "\n",
        "    return Y\n"
      ],
      "execution_count": 18,
      "outputs": []
    },
    {
      "cell_type": "code",
      "source": [
        "# Defining the parameters of a given object in our class\n",
        "#image_classification = Lenet_like(width = 32, depth  = 1, drop = 0.2, n_classes = 4)"
      ],
      "metadata": {
        "id": "2WVi48jMDkC0"
      },
      "execution_count": 12,
      "outputs": []
    },
    {
      "cell_type": "code",
      "source": [
        "# Getting an input for our model\n",
        "\n",
        "#image_classification(X = (32,32,3))"
      ],
      "metadata": {
        "id": "NkKEMWHTEDBc"
      },
      "execution_count": 13,
      "outputs": []
    },
    {
      "cell_type": "markdown",
      "metadata": {
        "id": "W8OPc7nifmTm"
      },
      "source": [
        "## 2- A function to create a model with Lenet_like architecture\n",
        "I want the model to be able to fit on the following datasets:\n",
        "\n",
        "- mnist\n",
        "- fashion-mnist\n",
        "- cifar-10\n",
        "\n",
        "Create a function called \"make_lenet_model\" that take the name of one of these dataset as a str.\n",
        "It returns a keras Model object.\n",
        "It should obviously take all arguments to init the Lenet_like architecture.\n",
        "Arguments other than the dataset might have default values.\n",
        "I want to be able to monitor the accuracy of the model."
      ]
    },
    {
      "cell_type": "code",
      "metadata": {
        "id": "cFbWjtAB_BDi"
      },
      "source": [
        "def make_lenet_model(dataset,\n",
        "                     width=32,\n",
        "                     depth=2,\n",
        "                     drop=0.25,\n",
        "                     n_classes=10):\n",
        "  \"\"\"\n",
        "  Create a Lenet model adapted to the dimensions of a given dataset.\n",
        "  \"\"\"\n",
        "  if dataset == \"cifar10\":\n",
        "    # dimensions of input are: (32, 32, 4)\n",
        "    X = Input(batch_shape=(32,32,3))\n",
        "  elif dataset == \"mnist\" or dataset == \"fashion_mnist\":\n",
        "    # dimensions of input are: (28, 28)\n",
        "    X = Input(batch_shape=(28,28))\n",
        "  else:\n",
        "    raise NotImplementedError(\"Model not implemented for datastet {}\".format(dataset))\n",
        "  \n",
        "  Y = Lenet_like(width, depth, drop, n_classes)(X)\n",
        "  \n",
        "  model = Model(inputs = X, outputs = make_autoencoder_model('mnist'))\n",
        "  # Remember I wanna monitor accuracy\n",
        "  model.compile(optimizer=tf.keras.optimizers.Adam(learning_rate=1e-3),\n",
        "              loss=tf.keras.losses.BinaryCrossentropy(),\n",
        "              metrics=[tf.keras.metrics.BinaryAccuracy(),\n",
        "                       tf.keras.metrics.FalseNegatives()])\n",
        "  return model"
      ],
      "execution_count": 14,
      "outputs": []
    },
    {
      "cell_type": "code",
      "source": [
        "make_lenet_model('mnist')"
      ],
      "metadata": {
        "colab": {
          "base_uri": "https://localhost:8080/",
          "height": 322
        },
        "id": "3IMpZLfsKZmx",
        "outputId": "c28adf99-7f1b-4cff-8efa-9d5f98ae81af"
      },
      "execution_count": 19,
      "outputs": [
        {
          "output_type": "error",
          "ename": "ValueError",
          "evalue": "ignored",
          "traceback": [
            "\u001b[0;31m---------------------------------------------------------------------------\u001b[0m",
            "\u001b[0;31mValueError\u001b[0m                                Traceback (most recent call last)",
            "\u001b[0;32m<ipython-input-19-4e62ea337310>\u001b[0m in \u001b[0;36m<module>\u001b[0;34m()\u001b[0m\n\u001b[0;32m----> 1\u001b[0;31m \u001b[0mmake_lenet_model\u001b[0m\u001b[0;34m(\u001b[0m\u001b[0;34m'mnist'\u001b[0m\u001b[0;34m)\u001b[0m\u001b[0;34m\u001b[0m\u001b[0;34m\u001b[0m\u001b[0m\n\u001b[0m",
            "\u001b[0;32m<ipython-input-14-3c4504d77d06>\u001b[0m in \u001b[0;36mmake_lenet_model\u001b[0;34m(dataset, width, depth, drop, n_classes)\u001b[0m\n\u001b[1;32m     16\u001b[0m     \u001b[0;32mraise\u001b[0m \u001b[0mNotImplementedError\u001b[0m\u001b[0;34m(\u001b[0m\u001b[0;34m\"Model not implemented for datastet {}\"\u001b[0m\u001b[0;34m.\u001b[0m\u001b[0mformat\u001b[0m\u001b[0;34m(\u001b[0m\u001b[0mdataset\u001b[0m\u001b[0;34m)\u001b[0m\u001b[0;34m)\u001b[0m\u001b[0;34m\u001b[0m\u001b[0;34m\u001b[0m\u001b[0m\n\u001b[1;32m     17\u001b[0m \u001b[0;34m\u001b[0m\u001b[0m\n\u001b[0;32m---> 18\u001b[0;31m   \u001b[0mY\u001b[0m \u001b[0;34m=\u001b[0m \u001b[0mLenet_like\u001b[0m\u001b[0;34m(\u001b[0m\u001b[0mwidth\u001b[0m\u001b[0;34m,\u001b[0m \u001b[0mdepth\u001b[0m\u001b[0;34m,\u001b[0m \u001b[0mdrop\u001b[0m\u001b[0;34m,\u001b[0m \u001b[0mn_classes\u001b[0m\u001b[0;34m)\u001b[0m\u001b[0;34m(\u001b[0m\u001b[0mX\u001b[0m\u001b[0;34m)\u001b[0m\u001b[0;34m\u001b[0m\u001b[0;34m\u001b[0m\u001b[0m\n\u001b[0m\u001b[1;32m     19\u001b[0m \u001b[0;34m\u001b[0m\u001b[0m\n\u001b[1;32m     20\u001b[0m   \u001b[0mmodel\u001b[0m \u001b[0;34m=\u001b[0m \u001b[0mModel\u001b[0m\u001b[0;34m(\u001b[0m\u001b[0minputs\u001b[0m \u001b[0;34m=\u001b[0m \u001b[0mX\u001b[0m\u001b[0;34m,\u001b[0m \u001b[0moutputs\u001b[0m \u001b[0;34m=\u001b[0m \u001b[0mmake_autoencoder_model\u001b[0m\u001b[0;34m(\u001b[0m\u001b[0;34m'mnist'\u001b[0m\u001b[0;34m)\u001b[0m\u001b[0;34m)\u001b[0m\u001b[0;34m\u001b[0m\u001b[0;34m\u001b[0m\u001b[0m\n",
            "\u001b[0;32m<ipython-input-18-231669a4a5e8>\u001b[0m in \u001b[0;36m__call__\u001b[0;34m(self, X)\u001b[0m\n\u001b[1;32m     29\u001b[0m     \u001b[0;32mfor\u001b[0m \u001b[0mk\u001b[0m \u001b[0;32min\u001b[0m \u001b[0mrange\u001b[0m\u001b[0;34m(\u001b[0m\u001b[0mself\u001b[0m\u001b[0;34m.\u001b[0m\u001b[0mdepth\u001b[0m\u001b[0;34m)\u001b[0m\u001b[0;34m:\u001b[0m\u001b[0;34m\u001b[0m\u001b[0;34m\u001b[0m\u001b[0m\n\u001b[1;32m     30\u001b[0m       \u001b[0;31m# Appliying the convolutional network and its layers\u001b[0m\u001b[0;34m\u001b[0m\u001b[0;34m\u001b[0m\u001b[0;34m\u001b[0m\u001b[0m\n\u001b[0;32m---> 31\u001b[0;31m            \u001b[0mConv2D\u001b[0m\u001b[0;34m(\u001b[0m\u001b[0mself\u001b[0m\u001b[0;34m.\u001b[0m\u001b[0mwidth\u001b[0m\u001b[0;34m,\u001b[0m \u001b[0;34m(\u001b[0m\u001b[0;36m3\u001b[0m\u001b[0;34m,\u001b[0m\u001b[0;36m3\u001b[0m\u001b[0;34m,\u001b[0m\u001b[0;34m)\u001b[0m\u001b[0;34m,\u001b[0m \u001b[0mactivation\u001b[0m\u001b[0;34m=\u001b[0m\u001b[0;34m'relu'\u001b[0m\u001b[0;34m)\u001b[0m\u001b[0;34m(\u001b[0m\u001b[0mY\u001b[0m\u001b[0;34m)\u001b[0m\u001b[0;34m\u001b[0m\u001b[0;34m\u001b[0m\u001b[0m\n\u001b[0m\u001b[1;32m     32\u001b[0m       \u001b[0;31m# Dropping out some connections\u001b[0m\u001b[0;34m\u001b[0m\u001b[0;34m\u001b[0m\u001b[0;34m\u001b[0m\u001b[0m\n\u001b[1;32m     33\u001b[0m            \u001b[0mDropout\u001b[0m\u001b[0;34m(\u001b[0m\u001b[0mself\u001b[0m\u001b[0;34m.\u001b[0m\u001b[0mdrop\u001b[0m\u001b[0;34m)\u001b[0m\u001b[0;34m(\u001b[0m\u001b[0mY\u001b[0m\u001b[0;34m)\u001b[0m\u001b[0;34m\u001b[0m\u001b[0;34m\u001b[0m\u001b[0m\n",
            "\u001b[0;32m/usr/local/lib/python3.7/dist-packages/keras/utils/traceback_utils.py\u001b[0m in \u001b[0;36merror_handler\u001b[0;34m(*args, **kwargs)\u001b[0m\n\u001b[1;32m     65\u001b[0m     \u001b[0;32mexcept\u001b[0m \u001b[0mException\u001b[0m \u001b[0;32mas\u001b[0m \u001b[0me\u001b[0m\u001b[0;34m:\u001b[0m  \u001b[0;31m# pylint: disable=broad-except\u001b[0m\u001b[0;34m\u001b[0m\u001b[0;34m\u001b[0m\u001b[0m\n\u001b[1;32m     66\u001b[0m       \u001b[0mfiltered_tb\u001b[0m \u001b[0;34m=\u001b[0m \u001b[0m_process_traceback_frames\u001b[0m\u001b[0;34m(\u001b[0m\u001b[0me\u001b[0m\u001b[0;34m.\u001b[0m\u001b[0m__traceback__\u001b[0m\u001b[0;34m)\u001b[0m\u001b[0;34m\u001b[0m\u001b[0;34m\u001b[0m\u001b[0m\n\u001b[0;32m---> 67\u001b[0;31m       \u001b[0;32mraise\u001b[0m \u001b[0me\u001b[0m\u001b[0;34m.\u001b[0m\u001b[0mwith_traceback\u001b[0m\u001b[0;34m(\u001b[0m\u001b[0mfiltered_tb\u001b[0m\u001b[0;34m)\u001b[0m \u001b[0;32mfrom\u001b[0m \u001b[0;32mNone\u001b[0m\u001b[0;34m\u001b[0m\u001b[0;34m\u001b[0m\u001b[0m\n\u001b[0m\u001b[1;32m     68\u001b[0m     \u001b[0;32mfinally\u001b[0m\u001b[0;34m:\u001b[0m\u001b[0;34m\u001b[0m\u001b[0;34m\u001b[0m\u001b[0m\n\u001b[1;32m     69\u001b[0m       \u001b[0;32mdel\u001b[0m \u001b[0mfiltered_tb\u001b[0m\u001b[0;34m\u001b[0m\u001b[0;34m\u001b[0m\u001b[0m\n",
            "\u001b[0;32m/usr/local/lib/python3.7/dist-packages/keras/engine/input_spec.py\u001b[0m in \u001b[0;36massert_input_compatibility\u001b[0;34m(input_spec, inputs, layer_name)\u001b[0m\n\u001b[1;32m    225\u001b[0m       \u001b[0mndim\u001b[0m \u001b[0;34m=\u001b[0m \u001b[0mx\u001b[0m\u001b[0;34m.\u001b[0m\u001b[0mshape\u001b[0m\u001b[0;34m.\u001b[0m\u001b[0mrank\u001b[0m\u001b[0;34m\u001b[0m\u001b[0;34m\u001b[0m\u001b[0m\n\u001b[1;32m    226\u001b[0m       \u001b[0;32mif\u001b[0m \u001b[0mndim\u001b[0m \u001b[0;32mis\u001b[0m \u001b[0;32mnot\u001b[0m \u001b[0;32mNone\u001b[0m \u001b[0;32mand\u001b[0m \u001b[0mndim\u001b[0m \u001b[0;34m<\u001b[0m \u001b[0mspec\u001b[0m\u001b[0;34m.\u001b[0m\u001b[0mmin_ndim\u001b[0m\u001b[0;34m:\u001b[0m\u001b[0;34m\u001b[0m\u001b[0;34m\u001b[0m\u001b[0m\n\u001b[0;32m--> 227\u001b[0;31m         raise ValueError(f'Input {input_index} of layer \"{layer_name}\" '\n\u001b[0m\u001b[1;32m    228\u001b[0m                          \u001b[0;34m'is incompatible with the layer: '\u001b[0m\u001b[0;34m\u001b[0m\u001b[0;34m\u001b[0m\u001b[0m\n\u001b[1;32m    229\u001b[0m                          \u001b[0;34mf'expected min_ndim={spec.min_ndim}, '\u001b[0m\u001b[0;34m\u001b[0m\u001b[0;34m\u001b[0m\u001b[0m\n",
            "\u001b[0;31mValueError\u001b[0m: Input 0 of layer \"conv2d_2\" is incompatible with the layer: expected min_ndim=4, found ndim=2. Full shape received: (28, 28)"
          ]
        }
      ]
    },
    {
      "cell_type": "markdown",
      "metadata": {
        "id": "bm0iDMSKgMF3"
      },
      "source": [
        "## 3- Create a fitting function\n",
        "\n",
        "I want a function \"fit_model_on\" with the following arguments:\n",
        "\n",
        "- dataset: str name of the dataset\n",
        "- epochs: number of times you fit on the entire training set\n",
        "- batch_size: number of images to average gradient on\n",
        "\n",
        "The function must create a Lenet model and fit it following these parameters.\n",
        "The function should:\n",
        "\n",
        "- fit the model, obviously\n",
        "- store the model architecture in a .json file in your output directory\n",
        "- store the model's weights in a .h5 file in your output directory\n",
        "- store the fitting metrics loss, validation_loss, accuracy, validation_accuracy under the form of a plot exported in a png file.\n",
        "\n",
        "Run your fitting function of course."
      ]
    },
    {
      "cell_type": "code",
      "metadata": {
        "id": "AS61Zmb5JeTB"
      },
      "source": [
        "def fit_model_on(dataset,\n",
        "                 epochs=100,\n",
        "                 batch_size=32,\n",
        "                 n_classes=10):\n",
        "  \n",
        "  model_filename = \"lenet_{}.json\".format(dataset)\n",
        "  weight_filename = \"lenet_{}_weights.h5\".format(dataset)\n",
        "  lossplot_filename = \"lenet_{}_loss.png\".format(dataset)\n",
        "  accplot_filename = \"lenet_{}_accuracy.png\".format(dataset)\n",
        "  \n",
        "  # create your model and call it on your dataset\n",
        "  model = ...\n",
        "  # create a Keras ImageDataGenerator to handle your dataset\n",
        "  datagen = ...\n",
        "  \n",
        "  if dataset == \"cifar10\":\n",
        "    (x_train, y_train), (x_test, y_test) = cifar10.load_data()\n",
        "  elif dataset == \"mnist\":\n",
        "    (x_train, y_train), (x_test, y_test) = mnist.load_data()\n",
        "  elif dataset == \"fashion_mnist\":\n",
        "    (x_train, y_train), (x_test, y_test) = fashion_mnist.load_data()\n",
        "  else:\n",
        "    raise NotImplementedError(\"Model not implemented for datastet {}\".format(dataset))\n",
        "  \n",
        "  # Convert class vectors to binary class matrices (one-hot encoding).\n",
        "  y_train = to_categorical(y_train, n_classes)\n",
        "  y_test = to_categorical(y_test, n_classes)\n",
        "\n",
        "  # Be sure that your training/test data is 'float32'\n",
        "  x_train = ...\n",
        "  x_test = ...\n",
        "  # Be sure that your training/test data are between 0 and 1 (pixel image value)\n",
        "  x_train ...\n",
        "  x_test ...\n",
        "\n",
        "  try:\n",
        "    # Fit with keras using 'datagen', the previously defined image generator\n",
        "    history = model.fit_generator(...)\n",
        "  except KeyboardInterrupt:\n",
        "    print(\"Training interrupted!\")\n",
        "  \n",
        "  # first, save the model\n",
        "  json_str = model.to_json()\n",
        "  model_path = os.path.join(OUTDIR, model_filename)\n",
        "  weight_path = os.path.join(OUTDIR, weight_filename)\n",
        "  with open(model_path, \"w\") as txtfile:\n",
        "    txtfile.write(json_str)\n",
        "  \n",
        "  # then, save the weights\n",
        "  model.save_weights(weight_path)\n",
        "  \n",
        "  # finally, plot and save the metrics\n",
        "  ...\n"
      ],
      "execution_count": null,
      "outputs": []
    },
    {
      "cell_type": "code",
      "metadata": {
        "id": "aXV-9BxNT59c"
      },
      "source": [
        "# fit your model\n",
        "..."
      ],
      "execution_count": null,
      "outputs": []
    },
    {
      "cell_type": "markdown",
      "metadata": {
        "id": "wxxaUv7qk-Zr"
      },
      "source": [
        "# EX2: Lenet-like auto-encoder.\n",
        "\n",
        "This one is very hard, It is fine if you do not finish.\n",
        "It's about autoencoders, feel free to read more about autoencoders : https://blog.keras.io/building-autoencoders-in-keras.html\n",
        "\n",
        "Autoencoders are a very special kind of model. Input $x$ is an image, output $y$ is an image. The model is supposed to predict $x = y$ ! Usually, you build an autoencoder to create a 'deep' representation of your images : the model break your image into a high level descriptor that is useful to build your image back (the descriptors' space is supposed to be very powerful for clustering and image matching algorithms). The representation is built in an unsupervised way ; if $f$ is the function defined by your model, then you expect $f$ to be such as:\n",
        "$$f(x) = y;$$\n",
        "$$x = y$$\n",
        "So you try to minimize $||f(x) - x||^2$ (mean squared error)"
      ]
    },
    {
      "cell_type": "markdown",
      "metadata": {
        "id": "k_IaGLkclOmM"
      },
      "source": [
        "## 1- Build model architecture\n",
        "The architecture has to be a CLASS called \"Autoencoder\".\n",
        "\n",
        "Basically, an autoencoder has two parts:\n",
        "- the Encoder $(conv2D-Maxpooling)\\times n$\n",
        "- the Decoder $(conv2D-Upsampling)\\times n$\n",
        "\n",
        "\n",
        "Autoencoder has no input tensor. But it has a \\_\\_call\\_\\_ function and can therefore be called on an input later.\n",
        "\n",
        "------------------------------\n",
        "\n",
        "For the Encoder:\n",
        "\n",
        "The rule to go from depth d to depth d+1, is to reduce the spatial size by a factor of 2 in each direction.\n",
        "\n",
        "------------------------------\n",
        "For the Decoder:\n",
        "\n",
        "The rule to go from depth d to depth d+1, is to increase the spatial size by a factor of 2 in each direction.\n"
      ]
    },
    {
      "cell_type": "code",
      "metadata": {
        "id": "mCG3NvJJpy8B"
      },
      "source": [
        "from keras.layers import BatchNormalization, UpSampling2D"
      ],
      "execution_count": null,
      "outputs": []
    },
    {
      "cell_type": "code",
      "metadata": {
        "id": "hJ8Io8DFp0sI"
      },
      "source": [
        "OUTDIR = \"/content/drive/My Drive/Autoencoding\"\n",
        "if not os.path.exists(OUTDIR):\n",
        "  os.makedirs(OUTDIR)"
      ],
      "execution_count": null,
      "outputs": []
    },
    {
      "cell_type": "code",
      "metadata": {
        "id": "L2XEJ0oTESRR"
      },
      "source": [
        "# first model\n",
        "# Lenet-like\n",
        "class Autoencoder:\n",
        "  \"\"\"\n",
        "  Aurtoencoder architecture.\n",
        "  \"\"\"\n",
        "  def __init__(self):\n",
        "    \"\"\"\n",
        "    Architecture settings.\n",
        "    \"\"\"\n",
        "    # nothing to do in the init.\n",
        "  \n",
        "  def __call__(self, X):\n",
        "    \"\"\"\n",
        "    Call autoencoder layers on the inputs.\n",
        "    \"\"\"\n",
        "\n",
        "    # encode\n",
        "    Y = ...\n",
        "    Y = ...\n",
        "    Y = ...\n",
        "    # decode\n",
        "    Y = ...\n",
        "    Y = ...\n",
        "    Y = ...\n",
        "\n",
        "    return Y"
      ],
      "execution_count": null,
      "outputs": []
    },
    {
      "cell_type": "markdown",
      "metadata": {
        "id": "QyQr2CKeqk8b"
      },
      "source": [
        "## 2- A function to create a model with your Autoencoder architecture\n",
        "I want the model to be able to fit on the following datasets:\n",
        "\n",
        "- cifar-10\n",
        "\n",
        "Create a function called \"make_autoencoder_model\" that take no argument.\n",
        "It only returns a keras Model object."
      ]
    },
    {
      "cell_type": "code",
      "metadata": {
        "id": "tiF9FQEBqbHB"
      },
      "source": [
        "def make_autoencoder_model():\n",
        "  \"\"\"\n",
        "  Create and compile autoencoder keras model.\n",
        "  \"\"\"\n",
        "  X = Input(batch_shape=(...))\n",
        "  Y = Autoencoder()(X)\n",
        "  model = Model(inputs=X, outputs=Y)\n",
        "  model.compile(optimizer='adam', metrics=['accuracy'], loss='mean_squared_error')\n",
        "  return model"
      ],
      "execution_count": null,
      "outputs": []
    },
    {
      "cell_type": "markdown",
      "metadata": {
        "id": "gIk0P030rHwK"
      },
      "source": [
        "Useful function to plot the resulting image produced by your autoencoder.\n",
        "Read them carefully if you want to plot your output correctly (especially 'comparison')"
      ]
    },
    {
      "cell_type": "code",
      "metadata": {
        "id": "kk8X5Vm4rGEr"
      },
      "source": [
        "def stack_horizontally(min, max, images):\n",
        "    return numpy.hstack(images[i] for i in range(min, max))\n",
        "\n",
        "def stack_vertically(length, height, images):\n",
        "    return numpy.vstack(stack_horizontally(i * length, (i + 1) * length, images) for i in range(height))\n",
        "\n",
        "def comparison(inputimgs, outputimgs, length, height):\n",
        "    A = stack_vertically(length, height, inputimgs)\n",
        "    B = stack_vertically(length, height, outputimgs)\n",
        "    C = numpy.ones((A.shape[0], 32, 3))\n",
        "    return numpy.hstack((A, C, B))"
      ],
      "execution_count": null,
      "outputs": []
    },
    {
      "cell_type": "markdown",
      "metadata": {
        "id": "muPRC6hfseSH"
      },
      "source": [
        "## 3- Create a fitting function\n",
        "\n",
        "I want a function \"fit_model_cifar10\" with the following arguments:\n",
        "\n",
        "- dataset: str name of the dataset\n",
        "- n_epochs: number of times you fit on the entire training set\n",
        "- batch_size: number of images to average gradient on\n",
        "- visualization_size (square root of number of test pred you wanna show to check your result)\n",
        "- verbose (debug purpose to see tensor dimensions in your architecture)\n",
        "\n",
        "The function must create an autoencoder model and fit it following these parameters.\n",
        "The function should:\n",
        "\n",
        "- fit the model, obviously\n",
        "- store the model architecture in a .json file in your output directory\n",
        "- store the model's weights in a .h5 file in your output directory\n",
        "- store the fitting metrics loss, validation_loss, under the form of a plot exported in a png file.\n",
        "- store the rebuilt test images under the form of a plot exported in a png file.\n",
        "\n",
        "Run your fitting function of course."
      ]
    },
    {
      "cell_type": "code",
      "metadata": {
        "id": "-yXeUGocrRDp"
      },
      "source": [
        "def fit_model_on_cifar10(n_epochs=3, batch_size=128, visualization_size=5, verbose=1):\n",
        "\n",
        "  model_filename = \"autoencoder_cifar10.json\"\n",
        "  weight_filename = \"autoencoder_cifar10_weights.h5\"\n",
        "  lossplot_filename = \"autoencoder_cifar10_loss.png\"\n",
        "  visuplot_filename = \"autoencoder_cifar10_visu.png\"\n",
        "  # create your model and call it on your dataset\n",
        "  model = ...\n",
        "  if verbose > 0:\n",
        "    print(model.summary())\n",
        "  (x_train, _), (x_test, _) = cifar10.load_data()\n",
        "  # Be sure that your training/test data is 'float32'\n",
        "  x_train = ...\n",
        "  x_test = ...\n",
        "  # Be sure that your training/test data are between 0 and 1 (pixel image value)\n",
        "  x_train ...\n",
        "  x_test ...\n",
        "  try:\n",
        "    history = model.fit(...)\n",
        "  except KeyboardInterrupt:\n",
        "    print(\"Training interrupted!\")\n",
        "  \n",
        "  # first, save the model\n",
        "  json_str = model.to_json()\n",
        "  model_path = os.path.join(OUTDIR, model_filename)\n",
        "  weight_path = os.path.join(OUTDIR, weight_filename)\n",
        "  with open(model_path, \"w\") as txtfile:\n",
        "    txtfile.write(json_str)\n",
        "  # then, save the weights\n",
        "  model.save_weights(weight_path)\n",
        "  # now, save metrics plots\n",
        "  ..."
      ],
      "execution_count": null,
      "outputs": []
    },
    {
      "cell_type": "code",
      "metadata": {
        "id": "UQEtpB9rsU_2"
      },
      "source": [
        "# fit your model\n",
        "..."
      ],
      "execution_count": null,
      "outputs": []
    }
  ]
}